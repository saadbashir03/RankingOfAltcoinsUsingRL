{
  "cells": [
    {
      "cell_type": "markdown",
      "metadata": {
        "id": "bNLqTqChjtot"
      },
      "source": [
        "# Connecting To Google Drive"
      ]
    },
    {
      "cell_type": "code",
      "execution_count": 2,
      "metadata": {
        "id": "NVUF2NFYwuNQ"
      },
      "outputs": [],
      "source": [
        "apikey = 'OK8tMupr8C3vWNK6mlsEmyQPAx3UKD4qjDPwI442xIpSDtl3WJ2Yodf6nxVd3sXb '\n",
        "secret = 'hgT8l2EdTSQf7aeH96J8VhupLRy1CJJ29Omldwsh5AIC1BVZc1HUiR3A7mraL2It'"
      ]
    },
    {
      "cell_type": "code",
      "execution_count": 3,
      "metadata": {},
      "outputs": [
        {
          "name": "stdout",
          "output_type": "stream",
          "text": [
            "ddd\n",
            "dd\n"
          ]
        }
      ],
      "source": [
        "print('ddd')\n",
        "print('dd')"
      ]
    },
    {
      "cell_type": "code",
      "execution_count": 4,
      "metadata": {
        "colab": {
          "base_uri": "https://localhost:8080/"
        },
        "id": "usklf81tw1OW",
        "outputId": "e64aa3bd-40d1-4193-886e-4ddd47cf2370"
      },
      "outputs": [
        {
          "name": "stdout",
          "output_type": "stream",
          "text": [
            "Requirement already satisfied: python-binance in c:\\users\\muhammad saad\\appdata\\local\\programs\\python\\python310\\lib\\site-packages (1.0.16)\n",
            "Requirement already satisfied: pandas in c:\\users\\muhammad saad\\appdata\\local\\programs\\python\\python310\\lib\\site-packages (1.4.3)\n",
            "Requirement already satisfied: mplfinance in c:\\users\\muhammad saad\\appdata\\local\\programs\\python\\python310\\lib\\site-packages (0.12.9b1)\n",
            "Requirement already satisfied: six in c:\\users\\muhammad saad\\appdata\\local\\programs\\python\\python310\\lib\\site-packages (from python-binance) (1.16.0)\n",
            "Requirement already satisfied: dateparser in c:\\users\\muhammad saad\\appdata\\local\\programs\\python\\python310\\lib\\site-packages (from python-binance) (1.1.1)\n",
            "Requirement already satisfied: requests in c:\\users\\muhammad saad\\appdata\\local\\programs\\python\\python310\\lib\\site-packages (from python-binance) (2.28.1)\n",
            "Requirement already satisfied: ujson in c:\\users\\muhammad saad\\appdata\\local\\programs\\python\\python310\\lib\\site-packages (from python-binance) (5.4.0)\n",
            "Requirement already satisfied: websockets in c:\\users\\muhammad saad\\appdata\\local\\programs\\python\\python310\\lib\\site-packages (from python-binance) (10.3)\n",
            "Requirement already satisfied: aiohttp in c:\\users\\muhammad saad\\appdata\\local\\programs\\python\\python310\\lib\\site-packages (from python-binance) (3.8.1)\n",
            "Requirement already satisfied: pytz>=2020.1 in c:\\users\\muhammad saad\\appdata\\local\\programs\\python\\python310\\lib\\site-packages (from pandas) (2022.1)\n",
            "Requirement already satisfied: python-dateutil>=2.8.1 in c:\\users\\muhammad saad\\appdata\\local\\programs\\python\\python310\\lib\\site-packages (from pandas) (2.8.2)\n",
            "Requirement already satisfied: numpy>=1.21.0 in c:\\users\\muhammad saad\\appdata\\local\\programs\\python\\python310\\lib\\site-packages (from pandas) (1.23.0)\n",
            "Requirement already satisfied: matplotlib in c:\\users\\muhammad saad\\appdata\\local\\programs\\python\\python310\\lib\\site-packages (from mplfinance) (3.5.2)\n",
            "Requirement already satisfied: multidict<7.0,>=4.5 in c:\\users\\muhammad saad\\appdata\\local\\programs\\python\\python310\\lib\\site-packages (from aiohttp->python-binance) (6.0.2)\n",
            "Requirement already satisfied: attrs>=17.3.0 in c:\\users\\muhammad saad\\appdata\\local\\programs\\python\\python310\\lib\\site-packages (from aiohttp->python-binance) (21.4.0)\n",
            "Requirement already satisfied: frozenlist>=1.1.1 in c:\\users\\muhammad saad\\appdata\\local\\programs\\python\\python310\\lib\\site-packages (from aiohttp->python-binance) (1.3.0)\n",
            "Requirement already satisfied: yarl<2.0,>=1.0 in c:\\users\\muhammad saad\\appdata\\local\\programs\\python\\python310\\lib\\site-packages (from aiohttp->python-binance) (1.7.2)\n",
            "Requirement already satisfied: aiosignal>=1.1.2 in c:\\users\\muhammad saad\\appdata\\local\\programs\\python\\python310\\lib\\site-packages (from aiohttp->python-binance) (1.2.0)\n",
            "Requirement already satisfied: charset-normalizer<3.0,>=2.0 in c:\\users\\muhammad saad\\appdata\\local\\programs\\python\\python310\\lib\\site-packages (from aiohttp->python-binance) (2.1.0)\n",
            "Requirement already satisfied: async-timeout<5.0,>=4.0.0a3 in c:\\users\\muhammad saad\\appdata\\local\\programs\\python\\python310\\lib\\site-packages (from aiohttp->python-binance) (4.0.2)\n",
            "Requirement already satisfied: tzlocal in c:\\users\\muhammad saad\\appdata\\local\\programs\\python\\python310\\lib\\site-packages (from dateparser->python-binance) (4.2)\n",
            "Requirement already satisfied: regex!=2019.02.19,!=2021.8.27,<2022.3.15 in c:\\users\\muhammad saad\\appdata\\local\\programs\\python\\python310\\lib\\site-packages (from dateparser->python-binance) (2022.3.2)\n",
            "Requirement already satisfied: kiwisolver>=1.0.1 in c:\\users\\muhammad saad\\appdata\\local\\programs\\python\\python310\\lib\\site-packages (from matplotlib->mplfinance) (1.4.3)\n",
            "Requirement already satisfied: pillow>=6.2.0 in c:\\users\\muhammad saad\\appdata\\local\\programs\\python\\python310\\lib\\site-packages (from matplotlib->mplfinance) (9.2.0)\n",
            "Requirement already satisfied: pyparsing>=2.2.1 in c:\\users\\muhammad saad\\appdata\\local\\programs\\python\\python310\\lib\\site-packages (from matplotlib->mplfinance) (3.0.9)\n",
            "Requirement already satisfied: packaging>=20.0 in c:\\users\\muhammad saad\\appdata\\local\\programs\\python\\python310\\lib\\site-packages (from matplotlib->mplfinance) (21.3)\n",
            "Requirement already satisfied: cycler>=0.10 in c:\\users\\muhammad saad\\appdata\\local\\programs\\python\\python310\\lib\\site-packages (from matplotlib->mplfinance) (0.11.0)\n",
            "Requirement already satisfied: fonttools>=4.22.0 in c:\\users\\muhammad saad\\appdata\\local\\programs\\python\\python310\\lib\\site-packages (from matplotlib->mplfinance) (4.34.0)\n",
            "Requirement already satisfied: certifi>=2017.4.17 in c:\\users\\muhammad saad\\appdata\\local\\programs\\python\\python310\\lib\\site-packages (from requests->python-binance) (2022.6.15)\n",
            "Requirement already satisfied: idna<4,>=2.5 in c:\\users\\muhammad saad\\appdata\\local\\programs\\python\\python310\\lib\\site-packages (from requests->python-binance) (3.3)\n",
            "Requirement already satisfied: urllib3<1.27,>=1.21.1 in c:\\users\\muhammad saad\\appdata\\local\\programs\\python\\python310\\lib\\site-packages (from requests->python-binance) (1.26.9)\n",
            "Requirement already satisfied: tzdata in c:\\users\\muhammad saad\\appdata\\local\\programs\\python\\python310\\lib\\site-packages (from tzlocal->dateparser->python-binance) (2022.1)\n",
            "Requirement already satisfied: pytz-deprecation-shim in c:\\users\\muhammad saad\\appdata\\local\\programs\\python\\python310\\lib\\site-packages (from tzlocal->dateparser->python-binance) (0.1.0.post0)\n",
            "Note: you may need to restart the kernel to use updated packages.\n"
          ]
        },
        {
          "name": "stderr",
          "output_type": "stream",
          "text": [
            "\n",
            "[notice] A new release of pip available: 22.2.1 -> 22.2.2\n",
            "[notice] To update, run: python.exe -m pip install --upgrade pip\n"
          ]
        }
      ],
      "source": [
        "%pip install python-binance pandas mplfinance"
      ]
    },
    {
      "cell_type": "code",
      "execution_count": 5,
      "metadata": {
        "id": "T5OgVUvxw7o_"
      },
      "outputs": [],
      "source": [
        "from binance import Client, ThreadedWebsocketManager,ThreadedDepthCacheManager\n",
        "import pandas as pd\n",
        "import numpy as np"
      ]
    },
    {
      "cell_type": "code",
      "execution_count": 6,
      "metadata": {
        "id": "Raw1VaEQxNxc"
      },
      "outputs": [],
      "source": [
        "client = Client(apikey,secret)"
      ]
    },
    {
      "cell_type": "code",
      "execution_count": 7,
      "metadata": {
        "colab": {
          "base_uri": "https://localhost:8080/"
        },
        "id": "8O0IikIdxWjr",
        "outputId": "d5c3b332-ef69-4e0a-f113-191dd62217e3"
      },
      "outputs": [
        {
          "name": "stdout",
          "output_type": "stream",
          "text": [
            "saa\n"
          ]
        }
      ],
      "source": [
        "print('saa') #1585"
      ]
    },
    {
      "cell_type": "code",
      "execution_count": 8,
      "metadata": {
        "colab": {
          "base_uri": "https://localhost:8080/"
        },
        "id": "iDRPzKuz-IhD",
        "outputId": "b171cefa-cd75-4ff6-ee13-c29eb750e549"
      },
      "outputs": [
        {
          "name": "stdout",
          "output_type": "stream",
          "text": [
            "['affle', 'dixon', 'astral']\n"
          ]
        }
      ],
      "source": [
        "data = [\"infy\", \"tcs\", \"affle\", \"dixon\", \"astral\"]\n",
        "data = [\"infy\", \"tcs\", \"affle\", \"dixon\", \"astral\"] \n",
        "\n",
        "last_element = data[-3:]\n",
        "print(last_element)"
      ]
    },
    {
      "cell_type": "code",
      "execution_count": 9,
      "metadata": {
        "id": "-gx8b847w-_m"
      },
      "outputs": [],
      "source": [
        "def getdailydata(symbol):\n",
        "    frame = pd.DataFrame(client.get_historical_klines(symbol,'1d','1546 days ago UTC'))\n",
        "    if len(frame) > 0:\n",
        "        frame = frame.iloc[:,:6]\n",
        "        frame.columns = ['Time','Open','High','Low','Close','Volume']\n",
        "        frame = frame.set_index('Time')\n",
        "        frame.index = pd.to_datetime(frame.index,unit='ms')\n",
        "        frame = frame.astype(float)\n",
        "        return frame"
      ]
    },
    {
      "cell_type": "code",
      "execution_count": 10,
      "metadata": {
        "id": "Ni6PjOv_UjgZ"
      },
      "outputs": [],
      "source": [
        "df_btc=getdailydata('BTCUSDT')"
      ]
    },
    {
      "cell_type": "code",
      "execution_count": 11,
      "metadata": {
        "colab": {
          "base_uri": "https://localhost:8080/",
          "height": 455
        },
        "id": "jn1IbOP09O0v",
        "outputId": "6d4b901e-a67a-46d0-cd8e-bc2e845ad53b"
      },
      "outputs": [
        {
          "data": {
            "text/html": [
              "<div>\n",
              "<style scoped>\n",
              "    .dataframe tbody tr th:only-of-type {\n",
              "        vertical-align: middle;\n",
              "    }\n",
              "\n",
              "    .dataframe tbody tr th {\n",
              "        vertical-align: top;\n",
              "    }\n",
              "\n",
              "    .dataframe thead th {\n",
              "        text-align: right;\n",
              "    }\n",
              "</style>\n",
              "<table border=\"1\" class=\"dataframe\">\n",
              "  <thead>\n",
              "    <tr style=\"text-align: right;\">\n",
              "      <th></th>\n",
              "      <th>Open</th>\n",
              "      <th>High</th>\n",
              "      <th>Low</th>\n",
              "      <th>Close</th>\n",
              "      <th>Volume</th>\n",
              "    </tr>\n",
              "    <tr>\n",
              "      <th>Time</th>\n",
              "      <th></th>\n",
              "      <th></th>\n",
              "      <th></th>\n",
              "      <th></th>\n",
              "      <th></th>\n",
              "    </tr>\n",
              "  </thead>\n",
              "  <tbody>\n",
              "    <tr>\n",
              "      <th>2018-05-30</th>\n",
              "      <td>7467.98</td>\n",
              "      <td>7569.00</td>\n",
              "      <td>7260.50</td>\n",
              "      <td>7375.96</td>\n",
              "      <td>32041.583623</td>\n",
              "    </tr>\n",
              "    <tr>\n",
              "      <th>2018-05-31</th>\n",
              "      <td>7382.07</td>\n",
              "      <td>7699.00</td>\n",
              "      <td>7327.51</td>\n",
              "      <td>7485.01</td>\n",
              "      <td>30776.063102</td>\n",
              "    </tr>\n",
              "    <tr>\n",
              "      <th>2018-06-01</th>\n",
              "      <td>7485.01</td>\n",
              "      <td>7608.55</td>\n",
              "      <td>7355.54</td>\n",
              "      <td>7521.01</td>\n",
              "      <td>28259.124078</td>\n",
              "    </tr>\n",
              "    <tr>\n",
              "      <th>2018-06-02</th>\n",
              "      <td>7521.01</td>\n",
              "      <td>7697.33</td>\n",
              "      <td>7437.00</td>\n",
              "      <td>7640.03</td>\n",
              "      <td>26720.690219</td>\n",
              "    </tr>\n",
              "    <tr>\n",
              "      <th>2018-06-03</th>\n",
              "      <td>7636.81</td>\n",
              "      <td>7786.69</td>\n",
              "      <td>7600.00</td>\n",
              "      <td>7714.26</td>\n",
              "      <td>27505.158951</td>\n",
              "    </tr>\n",
              "    <tr>\n",
              "      <th>...</th>\n",
              "      <td>...</td>\n",
              "      <td>...</td>\n",
              "      <td>...</td>\n",
              "      <td>...</td>\n",
              "      <td>...</td>\n",
              "    </tr>\n",
              "    <tr>\n",
              "      <th>2022-08-18</th>\n",
              "      <td>23342.66</td>\n",
              "      <td>23600.00</td>\n",
              "      <td>23111.04</td>\n",
              "      <td>23191.20</td>\n",
              "      <td>144185.970110</td>\n",
              "    </tr>\n",
              "    <tr>\n",
              "      <th>2022-08-19</th>\n",
              "      <td>23191.45</td>\n",
              "      <td>23208.67</td>\n",
              "      <td>20783.57</td>\n",
              "      <td>20834.39</td>\n",
              "      <td>283995.877470</td>\n",
              "    </tr>\n",
              "    <tr>\n",
              "      <th>2022-08-20</th>\n",
              "      <td>20834.39</td>\n",
              "      <td>21382.85</td>\n",
              "      <td>20761.90</td>\n",
              "      <td>21140.07</td>\n",
              "      <td>183041.683630</td>\n",
              "    </tr>\n",
              "    <tr>\n",
              "      <th>2022-08-21</th>\n",
              "      <td>21140.07</td>\n",
              "      <td>21800.00</td>\n",
              "      <td>21069.11</td>\n",
              "      <td>21515.61</td>\n",
              "      <td>159200.684100</td>\n",
              "    </tr>\n",
              "    <tr>\n",
              "      <th>2022-08-22</th>\n",
              "      <td>21516.70</td>\n",
              "      <td>21530.03</td>\n",
              "      <td>21341.91</td>\n",
              "      <td>21426.14</td>\n",
              "      <td>35077.753850</td>\n",
              "    </tr>\n",
              "  </tbody>\n",
              "</table>\n",
              "<p>1546 rows × 5 columns</p>\n",
              "</div>"
            ],
            "text/plain": [
              "                Open      High       Low     Close         Volume\n",
              "Time                                                             \n",
              "2018-05-30   7467.98   7569.00   7260.50   7375.96   32041.583623\n",
              "2018-05-31   7382.07   7699.00   7327.51   7485.01   30776.063102\n",
              "2018-06-01   7485.01   7608.55   7355.54   7521.01   28259.124078\n",
              "2018-06-02   7521.01   7697.33   7437.00   7640.03   26720.690219\n",
              "2018-06-03   7636.81   7786.69   7600.00   7714.26   27505.158951\n",
              "...              ...       ...       ...       ...            ...\n",
              "2022-08-18  23342.66  23600.00  23111.04  23191.20  144185.970110\n",
              "2022-08-19  23191.45  23208.67  20783.57  20834.39  283995.877470\n",
              "2022-08-20  20834.39  21382.85  20761.90  21140.07  183041.683630\n",
              "2022-08-21  21140.07  21800.00  21069.11  21515.61  159200.684100\n",
              "2022-08-22  21516.70  21530.03  21341.91  21426.14   35077.753850\n",
              "\n",
              "[1546 rows x 5 columns]"
            ]
          },
          "execution_count": 11,
          "metadata": {},
          "output_type": "execute_result"
        }
      ],
      "source": [
        "df_btc"
      ]
    },
    {
      "cell_type": "code",
      "execution_count": 12,
      "metadata": {
        "id": "w9rJ24Q-1hKg"
      },
      "outputs": [],
      "source": [
        "df_second=getdailydata('ETHUSDT')\n",
        "# df_second=getdailydata('XRPUSDT')"
      ]
    },
    {
      "cell_type": "code",
      "execution_count": 13,
      "metadata": {
        "colab": {
          "base_uri": "https://localhost:8080/"
        },
        "id": "VcmpKI5L6Ml-",
        "outputId": "aa25f022-8adb-4f9d-cd08-efaaa44e3ea4"
      },
      "outputs": [
        {
          "data": {
            "text/html": [
              "<div>\n",
              "<style scoped>\n",
              "    .dataframe tbody tr th:only-of-type {\n",
              "        vertical-align: middle;\n",
              "    }\n",
              "\n",
              "    .dataframe tbody tr th {\n",
              "        vertical-align: top;\n",
              "    }\n",
              "\n",
              "    .dataframe thead th {\n",
              "        text-align: right;\n",
              "    }\n",
              "</style>\n",
              "<table border=\"1\" class=\"dataframe\">\n",
              "  <thead>\n",
              "    <tr style=\"text-align: right;\">\n",
              "      <th></th>\n",
              "      <th>Open</th>\n",
              "      <th>High</th>\n",
              "      <th>Low</th>\n",
              "      <th>Close</th>\n",
              "      <th>Volume</th>\n",
              "    </tr>\n",
              "    <tr>\n",
              "      <th>Time</th>\n",
              "      <th></th>\n",
              "      <th></th>\n",
              "      <th></th>\n",
              "      <th></th>\n",
              "      <th></th>\n",
              "    </tr>\n",
              "  </thead>\n",
              "  <tbody>\n",
              "    <tr>\n",
              "      <th>2018-05-30</th>\n",
              "      <td>567.09</td>\n",
              "      <td>585.83</td>\n",
              "      <td>541.20</td>\n",
              "      <td>557.19</td>\n",
              "      <td>1.221323e+05</td>\n",
              "    </tr>\n",
              "    <tr>\n",
              "      <th>2018-05-31</th>\n",
              "      <td>557.87</td>\n",
              "      <td>586.73</td>\n",
              "      <td>552.98</td>\n",
              "      <td>577.81</td>\n",
              "      <td>1.001015e+05</td>\n",
              "    </tr>\n",
              "    <tr>\n",
              "      <th>2018-06-01</th>\n",
              "      <td>577.81</td>\n",
              "      <td>590.26</td>\n",
              "      <td>564.93</td>\n",
              "      <td>579.00</td>\n",
              "      <td>8.384084e+04</td>\n",
              "    </tr>\n",
              "    <tr>\n",
              "      <th>2018-06-02</th>\n",
              "      <td>579.00</td>\n",
              "      <td>599.17</td>\n",
              "      <td>572.90</td>\n",
              "      <td>590.85</td>\n",
              "      <td>8.025815e+04</td>\n",
              "    </tr>\n",
              "    <tr>\n",
              "      <th>2018-06-03</th>\n",
              "      <td>590.85</td>\n",
              "      <td>628.81</td>\n",
              "      <td>590.10</td>\n",
              "      <td>619.66</td>\n",
              "      <td>8.412333e+04</td>\n",
              "    </tr>\n",
              "    <tr>\n",
              "      <th>...</th>\n",
              "      <td>...</td>\n",
              "      <td>...</td>\n",
              "      <td>...</td>\n",
              "      <td>...</td>\n",
              "      <td>...</td>\n",
              "    </tr>\n",
              "    <tr>\n",
              "      <th>2022-08-18</th>\n",
              "      <td>1834.24</td>\n",
              "      <td>1882.37</td>\n",
              "      <td>1821.25</td>\n",
              "      <td>1846.39</td>\n",
              "      <td>6.062540e+05</td>\n",
              "    </tr>\n",
              "    <tr>\n",
              "      <th>2022-08-19</th>\n",
              "      <td>1846.39</td>\n",
              "      <td>1848.00</td>\n",
              "      <td>1602.37</td>\n",
              "      <td>1609.01</td>\n",
              "      <td>1.419827e+06</td>\n",
              "    </tr>\n",
              "    <tr>\n",
              "      <th>2022-08-20</th>\n",
              "      <td>1609.00</td>\n",
              "      <td>1657.08</td>\n",
              "      <td>1523.67</td>\n",
              "      <td>1576.04</td>\n",
              "      <td>9.146159e+05</td>\n",
              "    </tr>\n",
              "    <tr>\n",
              "      <th>2022-08-21</th>\n",
              "      <td>1576.03</td>\n",
              "      <td>1646.52</td>\n",
              "      <td>1562.34</td>\n",
              "      <td>1618.13</td>\n",
              "      <td>7.806626e+05</td>\n",
              "    </tr>\n",
              "    <tr>\n",
              "      <th>2022-08-22</th>\n",
              "      <td>1618.13</td>\n",
              "      <td>1621.97</td>\n",
              "      <td>1585.01</td>\n",
              "      <td>1602.37</td>\n",
              "      <td>1.492064e+05</td>\n",
              "    </tr>\n",
              "  </tbody>\n",
              "</table>\n",
              "<p>1546 rows × 5 columns</p>\n",
              "</div>"
            ],
            "text/plain": [
              "               Open     High      Low    Close        Volume\n",
              "Time                                                        \n",
              "2018-05-30   567.09   585.83   541.20   557.19  1.221323e+05\n",
              "2018-05-31   557.87   586.73   552.98   577.81  1.001015e+05\n",
              "2018-06-01   577.81   590.26   564.93   579.00  8.384084e+04\n",
              "2018-06-02   579.00   599.17   572.90   590.85  8.025815e+04\n",
              "2018-06-03   590.85   628.81   590.10   619.66  8.412333e+04\n",
              "...             ...      ...      ...      ...           ...\n",
              "2022-08-18  1834.24  1882.37  1821.25  1846.39  6.062540e+05\n",
              "2022-08-19  1846.39  1848.00  1602.37  1609.01  1.419827e+06\n",
              "2022-08-20  1609.00  1657.08  1523.67  1576.04  9.146159e+05\n",
              "2022-08-21  1576.03  1646.52  1562.34  1618.13  7.806626e+05\n",
              "2022-08-22  1618.13  1621.97  1585.01  1602.37  1.492064e+05\n",
              "\n",
              "[1546 rows x 5 columns]"
            ]
          },
          "execution_count": 13,
          "metadata": {},
          "output_type": "execute_result"
        }
      ],
      "source": [
        "df_second"
      ]
    },
    {
      "cell_type": "code",
      "execution_count": 16,
      "metadata": {
        "id": "LVrM3fLLHhf7"
      },
      "outputs": [],
      "source": [
        "df=pd.read_csv('fear&greed.csv')"
      ]
    },
    {
      "cell_type": "code",
      "execution_count": 17,
      "metadata": {
        "id": "x6W-6B78x_oD"
      },
      "outputs": [],
      "source": [
        "df_btc.drop(['Open','High','Low','Volume'],inplace=True,axis=1)"
      ]
    },
    {
      "cell_type": "code",
      "execution_count": 18,
      "metadata": {
        "colab": {
          "base_uri": "https://localhost:8080/"
        },
        "id": "97LALXUFy9hn",
        "outputId": "c89f7d08-3e23-472a-cc70-3542f93c3425"
      },
      "outputs": [
        {
          "data": {
            "text/html": [
              "<div>\n",
              "<style scoped>\n",
              "    .dataframe tbody tr th:only-of-type {\n",
              "        vertical-align: middle;\n",
              "    }\n",
              "\n",
              "    .dataframe tbody tr th {\n",
              "        vertical-align: top;\n",
              "    }\n",
              "\n",
              "    .dataframe thead th {\n",
              "        text-align: right;\n",
              "    }\n",
              "</style>\n",
              "<table border=\"1\" class=\"dataframe\">\n",
              "  <thead>\n",
              "    <tr style=\"text-align: right;\">\n",
              "      <th></th>\n",
              "      <th>Date</th>\n",
              "      <th>fng_value</th>\n",
              "      <th>fng_classification</th>\n",
              "    </tr>\n",
              "  </thead>\n",
              "  <tbody>\n",
              "    <tr>\n",
              "      <th>0</th>\n",
              "      <td>6/7/2022</td>\n",
              "      <td>15</td>\n",
              "      <td>Extreme Fear</td>\n",
              "    </tr>\n",
              "    <tr>\n",
              "      <th>1</th>\n",
              "      <td>6/6/2022</td>\n",
              "      <td>13</td>\n",
              "      <td>Extreme Fear</td>\n",
              "    </tr>\n",
              "    <tr>\n",
              "      <th>2</th>\n",
              "      <td>6/5/2022</td>\n",
              "      <td>10</td>\n",
              "      <td>Extreme Fear</td>\n",
              "    </tr>\n",
              "    <tr>\n",
              "      <th>3</th>\n",
              "      <td>6/4/2022</td>\n",
              "      <td>14</td>\n",
              "      <td>Extreme Fear</td>\n",
              "    </tr>\n",
              "    <tr>\n",
              "      <th>4</th>\n",
              "      <td>6/3/2022</td>\n",
              "      <td>10</td>\n",
              "      <td>Extreme Fear</td>\n",
              "    </tr>\n",
              "    <tr>\n",
              "      <th>...</th>\n",
              "      <td>...</td>\n",
              "      <td>...</td>\n",
              "      <td>...</td>\n",
              "    </tr>\n",
              "    <tr>\n",
              "      <th>1580</th>\n",
              "      <td>2/5/2018</td>\n",
              "      <td>11</td>\n",
              "      <td>Extreme Fear</td>\n",
              "    </tr>\n",
              "    <tr>\n",
              "      <th>1581</th>\n",
              "      <td>2/4/2018</td>\n",
              "      <td>24</td>\n",
              "      <td>Extreme Fear</td>\n",
              "    </tr>\n",
              "    <tr>\n",
              "      <th>1582</th>\n",
              "      <td>2/3/2018</td>\n",
              "      <td>40</td>\n",
              "      <td>Fear</td>\n",
              "    </tr>\n",
              "    <tr>\n",
              "      <th>1583</th>\n",
              "      <td>2/2/2018</td>\n",
              "      <td>15</td>\n",
              "      <td>Extreme Fear</td>\n",
              "    </tr>\n",
              "    <tr>\n",
              "      <th>1584</th>\n",
              "      <td>2/1/2018</td>\n",
              "      <td>30</td>\n",
              "      <td>Fear</td>\n",
              "    </tr>\n",
              "  </tbody>\n",
              "</table>\n",
              "<p>1585 rows × 3 columns</p>\n",
              "</div>"
            ],
            "text/plain": [
              "          Date  fng_value fng_classification\n",
              "0     6/7/2022         15       Extreme Fear\n",
              "1     6/6/2022         13       Extreme Fear\n",
              "2     6/5/2022         10       Extreme Fear\n",
              "3     6/4/2022         14       Extreme Fear\n",
              "4     6/3/2022         10       Extreme Fear\n",
              "...        ...        ...                ...\n",
              "1580  2/5/2018         11       Extreme Fear\n",
              "1581  2/4/2018         24       Extreme Fear\n",
              "1582  2/3/2018         40               Fear\n",
              "1583  2/2/2018         15       Extreme Fear\n",
              "1584  2/1/2018         30               Fear\n",
              "\n",
              "[1585 rows x 3 columns]"
            ]
          },
          "execution_count": 18,
          "metadata": {},
          "output_type": "execute_result"
        }
      ],
      "source": [
        "df"
      ]
    },
    {
      "cell_type": "code",
      "execution_count": 19,
      "metadata": {
        "id": "2lGetLemlvEV"
      },
      "outputs": [],
      "source": [
        "fng_value=df['fng_value'].to_list()"
      ]
    },
    {
      "cell_type": "code",
      "execution_count": 20,
      "metadata": {
        "colab": {
          "base_uri": "https://localhost:8080/"
        },
        "id": "BatFCou29EZ4",
        "outputId": "662a4669-2b83-48ea-8c13-73fb66549fff"
      },
      "outputs": [
        {
          "data": {
            "text/plain": [
              "1546"
            ]
          },
          "execution_count": 20,
          "metadata": {},
          "output_type": "execute_result"
        }
      ],
      "source": [
        "\n",
        "\n",
        "fng_value=fng_value[-1546:]\n",
        "len(fng_value)"
      ]
    },
    {
      "cell_type": "code",
      "execution_count": 21,
      "metadata": {
        "id": "AvLBruaqyb0_"
      },
      "outputs": [],
      "source": [
        "df_btc['fng_value']=fng_value"
      ]
    },
    {
      "cell_type": "code",
      "execution_count": 22,
      "metadata": {
        "id": "wUCrKrY71odu"
      },
      "outputs": [],
      "source": [
        "pred_close=df_second['Close']"
      ]
    },
    {
      "cell_type": "code",
      "execution_count": 23,
      "metadata": {
        "id": "Md4G6anU2Su8"
      },
      "outputs": [],
      "source": [
        "df_btc['pred_close']=pred_close"
      ]
    },
    {
      "cell_type": "code",
      "execution_count": 24,
      "metadata": {
        "colab": {
          "base_uri": "https://localhost:8080/"
        },
        "id": "4m344T3eyo7J",
        "outputId": "caf04e4e-e7e9-4048-c021-42e45cf1c42b"
      },
      "outputs": [
        {
          "data": {
            "text/html": [
              "<div>\n",
              "<style scoped>\n",
              "    .dataframe tbody tr th:only-of-type {\n",
              "        vertical-align: middle;\n",
              "    }\n",
              "\n",
              "    .dataframe tbody tr th {\n",
              "        vertical-align: top;\n",
              "    }\n",
              "\n",
              "    .dataframe thead th {\n",
              "        text-align: right;\n",
              "    }\n",
              "</style>\n",
              "<table border=\"1\" class=\"dataframe\">\n",
              "  <thead>\n",
              "    <tr style=\"text-align: right;\">\n",
              "      <th></th>\n",
              "      <th>Close</th>\n",
              "      <th>fng_value</th>\n",
              "      <th>pred_close</th>\n",
              "    </tr>\n",
              "    <tr>\n",
              "      <th>Time</th>\n",
              "      <th></th>\n",
              "      <th></th>\n",
              "      <th></th>\n",
              "    </tr>\n",
              "  </thead>\n",
              "  <tbody>\n",
              "    <tr>\n",
              "      <th>2018-05-30</th>\n",
              "      <td>7375.96</td>\n",
              "      <td>23</td>\n",
              "      <td>557.19</td>\n",
              "    </tr>\n",
              "    <tr>\n",
              "      <th>2018-05-31</th>\n",
              "      <td>7485.01</td>\n",
              "      <td>24</td>\n",
              "      <td>577.81</td>\n",
              "    </tr>\n",
              "    <tr>\n",
              "      <th>2018-06-01</th>\n",
              "      <td>7521.01</td>\n",
              "      <td>21</td>\n",
              "      <td>579.00</td>\n",
              "    </tr>\n",
              "    <tr>\n",
              "      <th>2018-06-02</th>\n",
              "      <td>7640.03</td>\n",
              "      <td>27</td>\n",
              "      <td>590.85</td>\n",
              "    </tr>\n",
              "    <tr>\n",
              "      <th>2018-06-03</th>\n",
              "      <td>7714.26</td>\n",
              "      <td>23</td>\n",
              "      <td>619.66</td>\n",
              "    </tr>\n",
              "    <tr>\n",
              "      <th>...</th>\n",
              "      <td>...</td>\n",
              "      <td>...</td>\n",
              "      <td>...</td>\n",
              "    </tr>\n",
              "    <tr>\n",
              "      <th>2022-08-18</th>\n",
              "      <td>23191.20</td>\n",
              "      <td>11</td>\n",
              "      <td>1846.39</td>\n",
              "    </tr>\n",
              "    <tr>\n",
              "      <th>2022-08-19</th>\n",
              "      <td>20834.39</td>\n",
              "      <td>24</td>\n",
              "      <td>1609.01</td>\n",
              "    </tr>\n",
              "    <tr>\n",
              "      <th>2022-08-20</th>\n",
              "      <td>21140.07</td>\n",
              "      <td>40</td>\n",
              "      <td>1576.04</td>\n",
              "    </tr>\n",
              "    <tr>\n",
              "      <th>2022-08-21</th>\n",
              "      <td>21515.61</td>\n",
              "      <td>15</td>\n",
              "      <td>1618.13</td>\n",
              "    </tr>\n",
              "    <tr>\n",
              "      <th>2022-08-22</th>\n",
              "      <td>21426.14</td>\n",
              "      <td>30</td>\n",
              "      <td>1602.37</td>\n",
              "    </tr>\n",
              "  </tbody>\n",
              "</table>\n",
              "<p>1546 rows × 3 columns</p>\n",
              "</div>"
            ],
            "text/plain": [
              "               Close  fng_value  pred_close\n",
              "Time                                       \n",
              "2018-05-30   7375.96         23      557.19\n",
              "2018-05-31   7485.01         24      577.81\n",
              "2018-06-01   7521.01         21      579.00\n",
              "2018-06-02   7640.03         27      590.85\n",
              "2018-06-03   7714.26         23      619.66\n",
              "...              ...        ...         ...\n",
              "2022-08-18  23191.20         11     1846.39\n",
              "2022-08-19  20834.39         24     1609.01\n",
              "2022-08-20  21140.07         40     1576.04\n",
              "2022-08-21  21515.61         15     1618.13\n",
              "2022-08-22  21426.14         30     1602.37\n",
              "\n",
              "[1546 rows x 3 columns]"
            ]
          },
          "execution_count": 24,
          "metadata": {},
          "output_type": "execute_result"
        }
      ],
      "source": [
        "df_btc"
      ]
    },
    {
      "cell_type": "markdown",
      "metadata": {
        "id": "vFf_i4NuzcFt"
      },
      "source": [
        "### RSI"
      ]
    },
    {
      "cell_type": "code",
      "execution_count": 25,
      "metadata": {
        "id": "b5Q_VSb4Iq2L"
      },
      "outputs": [],
      "source": [
        "#calculating Difference \n",
        "change = df_btc[\"Close\"].diff()\n",
        "change.dropna(inplace=True)"
      ]
    },
    {
      "cell_type": "code",
      "execution_count": 26,
      "metadata": {
        "id": "DA0RcqPOIxMA"
      },
      "outputs": [],
      "source": [
        "# Create two copies of the Closing price Series\n",
        "change_up = change.copy()\n",
        "change_down = change.copy()\n",
        "\n",
        "# \n",
        "change_up[change_up<0] = 0\n",
        "change_down[change_down>0] = 0\n",
        "\n",
        "# Verify that we did not make any mistakes\n",
        "change.equals(change_up+change_down)\n",
        "\n",
        "# Calculate the rolling average of average up and average down\n",
        "avg_up = change_up.rolling(14).mean()\n",
        "avg_down = change_down.rolling(14).mean().abs()"
      ]
    },
    {
      "cell_type": "code",
      "execution_count": 27,
      "metadata": {
        "colab": {
          "base_uri": "https://localhost:8080/"
        },
        "id": "J8uJWpQUzuI7",
        "outputId": "7f64b504-4ee0-4eb6-9ecf-a2a79fdb8501"
      },
      "outputs": [
        {
          "data": {
            "text/plain": [
              "count    1532.000000\n",
              "mean       52.138294\n",
              "std        18.175580\n",
              "min         4.970814\n",
              "25%        39.092735\n",
              "50%        51.932440\n",
              "75%        64.832376\n",
              "max        96.616924\n",
              "Name: Close, dtype: float64"
            ]
          },
          "execution_count": 27,
          "metadata": {},
          "output_type": "execute_result"
        }
      ],
      "source": [
        "rsi = 100 * avg_up / (avg_up + avg_down)\n",
        "\n",
        "# Take a look at the 20 oldest datapoints\n",
        "rsi.describe()"
      ]
    },
    {
      "cell_type": "code",
      "execution_count": 28,
      "metadata": {
        "id": "VKqYQXhN0KnZ"
      },
      "outputs": [],
      "source": [
        "df_btc['Rsi']=rsi"
      ]
    },
    {
      "cell_type": "code",
      "execution_count": 29,
      "metadata": {
        "colab": {
          "base_uri": "https://localhost:8080/"
        },
        "id": "g3z5alsU0XSw",
        "outputId": "c6a060f9-71bb-45e0-faa8-f906a87d5ffe"
      },
      "outputs": [
        {
          "data": {
            "text/html": [
              "<div>\n",
              "<style scoped>\n",
              "    .dataframe tbody tr th:only-of-type {\n",
              "        vertical-align: middle;\n",
              "    }\n",
              "\n",
              "    .dataframe tbody tr th {\n",
              "        vertical-align: top;\n",
              "    }\n",
              "\n",
              "    .dataframe thead th {\n",
              "        text-align: right;\n",
              "    }\n",
              "</style>\n",
              "<table border=\"1\" class=\"dataframe\">\n",
              "  <thead>\n",
              "    <tr style=\"text-align: right;\">\n",
              "      <th></th>\n",
              "      <th>Close</th>\n",
              "      <th>fng_value</th>\n",
              "      <th>pred_close</th>\n",
              "      <th>Rsi</th>\n",
              "    </tr>\n",
              "    <tr>\n",
              "      <th>Time</th>\n",
              "      <th></th>\n",
              "      <th></th>\n",
              "      <th></th>\n",
              "      <th></th>\n",
              "    </tr>\n",
              "  </thead>\n",
              "  <tbody>\n",
              "    <tr>\n",
              "      <th>2018-05-30</th>\n",
              "      <td>7375.96</td>\n",
              "      <td>23</td>\n",
              "      <td>557.19</td>\n",
              "      <td>NaN</td>\n",
              "    </tr>\n",
              "    <tr>\n",
              "      <th>2018-05-31</th>\n",
              "      <td>7485.01</td>\n",
              "      <td>24</td>\n",
              "      <td>577.81</td>\n",
              "      <td>NaN</td>\n",
              "    </tr>\n",
              "    <tr>\n",
              "      <th>2018-06-01</th>\n",
              "      <td>7521.01</td>\n",
              "      <td>21</td>\n",
              "      <td>579.00</td>\n",
              "      <td>NaN</td>\n",
              "    </tr>\n",
              "    <tr>\n",
              "      <th>2018-06-02</th>\n",
              "      <td>7640.03</td>\n",
              "      <td>27</td>\n",
              "      <td>590.85</td>\n",
              "      <td>NaN</td>\n",
              "    </tr>\n",
              "    <tr>\n",
              "      <th>2018-06-03</th>\n",
              "      <td>7714.26</td>\n",
              "      <td>23</td>\n",
              "      <td>619.66</td>\n",
              "      <td>NaN</td>\n",
              "    </tr>\n",
              "    <tr>\n",
              "      <th>...</th>\n",
              "      <td>...</td>\n",
              "      <td>...</td>\n",
              "      <td>...</td>\n",
              "      <td>...</td>\n",
              "    </tr>\n",
              "    <tr>\n",
              "      <th>2022-08-18</th>\n",
              "      <td>23191.20</td>\n",
              "      <td>11</td>\n",
              "      <td>1846.39</td>\n",
              "      <td>55.522683</td>\n",
              "    </tr>\n",
              "    <tr>\n",
              "      <th>2022-08-19</th>\n",
              "      <td>20834.39</td>\n",
              "      <td>24</td>\n",
              "      <td>1609.01</td>\n",
              "      <td>31.810728</td>\n",
              "    </tr>\n",
              "    <tr>\n",
              "      <th>2022-08-20</th>\n",
              "      <td>21140.07</td>\n",
              "      <td>40</td>\n",
              "      <td>1576.04</td>\n",
              "      <td>36.580336</td>\n",
              "    </tr>\n",
              "    <tr>\n",
              "      <th>2022-08-21</th>\n",
              "      <td>21515.61</td>\n",
              "      <td>15</td>\n",
              "      <td>1618.13</td>\n",
              "      <td>38.005270</td>\n",
              "    </tr>\n",
              "    <tr>\n",
              "      <th>2022-08-22</th>\n",
              "      <td>21426.14</td>\n",
              "      <td>30</td>\n",
              "      <td>1602.37</td>\n",
              "      <td>31.283917</td>\n",
              "    </tr>\n",
              "  </tbody>\n",
              "</table>\n",
              "<p>1546 rows × 4 columns</p>\n",
              "</div>"
            ],
            "text/plain": [
              "               Close  fng_value  pred_close        Rsi\n",
              "Time                                                  \n",
              "2018-05-30   7375.96         23      557.19        NaN\n",
              "2018-05-31   7485.01         24      577.81        NaN\n",
              "2018-06-01   7521.01         21      579.00        NaN\n",
              "2018-06-02   7640.03         27      590.85        NaN\n",
              "2018-06-03   7714.26         23      619.66        NaN\n",
              "...              ...        ...         ...        ...\n",
              "2022-08-18  23191.20         11     1846.39  55.522683\n",
              "2022-08-19  20834.39         24     1609.01  31.810728\n",
              "2022-08-20  21140.07         40     1576.04  36.580336\n",
              "2022-08-21  21515.61         15     1618.13  38.005270\n",
              "2022-08-22  21426.14         30     1602.37  31.283917\n",
              "\n",
              "[1546 rows x 4 columns]"
            ]
          },
          "execution_count": 29,
          "metadata": {},
          "output_type": "execute_result"
        }
      ],
      "source": [
        "df_btc"
      ]
    },
    {
      "cell_type": "code",
      "execution_count": 30,
      "metadata": {
        "id": "taqsO9XAK79N"
      },
      "outputs": [],
      "source": [
        "#Replacing with mean\n",
        "Rsi_mean=df_btc['Rsi'].mean()\n",
        "df_btc['Rsi']=df_btc['Rsi'].fillna(Rsi_mean)\n"
      ]
    },
    {
      "cell_type": "code",
      "execution_count": 31,
      "metadata": {
        "colab": {
          "base_uri": "https://localhost:8080/"
        },
        "id": "rqoY-qMI0sq3",
        "outputId": "d725ddd2-2393-4fe9-cbc9-1a80a97fb615"
      },
      "outputs": [
        {
          "data": {
            "text/html": [
              "<div>\n",
              "<style scoped>\n",
              "    .dataframe tbody tr th:only-of-type {\n",
              "        vertical-align: middle;\n",
              "    }\n",
              "\n",
              "    .dataframe tbody tr th {\n",
              "        vertical-align: top;\n",
              "    }\n",
              "\n",
              "    .dataframe thead th {\n",
              "        text-align: right;\n",
              "    }\n",
              "</style>\n",
              "<table border=\"1\" class=\"dataframe\">\n",
              "  <thead>\n",
              "    <tr style=\"text-align: right;\">\n",
              "      <th></th>\n",
              "      <th>Close</th>\n",
              "      <th>fng_value</th>\n",
              "      <th>pred_close</th>\n",
              "      <th>Rsi</th>\n",
              "    </tr>\n",
              "    <tr>\n",
              "      <th>Time</th>\n",
              "      <th></th>\n",
              "      <th></th>\n",
              "      <th></th>\n",
              "      <th></th>\n",
              "    </tr>\n",
              "  </thead>\n",
              "  <tbody>\n",
              "    <tr>\n",
              "      <th>2018-05-30</th>\n",
              "      <td>7375.96</td>\n",
              "      <td>23</td>\n",
              "      <td>557.19</td>\n",
              "      <td>52.138294</td>\n",
              "    </tr>\n",
              "    <tr>\n",
              "      <th>2018-05-31</th>\n",
              "      <td>7485.01</td>\n",
              "      <td>24</td>\n",
              "      <td>577.81</td>\n",
              "      <td>52.138294</td>\n",
              "    </tr>\n",
              "    <tr>\n",
              "      <th>2018-06-01</th>\n",
              "      <td>7521.01</td>\n",
              "      <td>21</td>\n",
              "      <td>579.00</td>\n",
              "      <td>52.138294</td>\n",
              "    </tr>\n",
              "    <tr>\n",
              "      <th>2018-06-02</th>\n",
              "      <td>7640.03</td>\n",
              "      <td>27</td>\n",
              "      <td>590.85</td>\n",
              "      <td>52.138294</td>\n",
              "    </tr>\n",
              "    <tr>\n",
              "      <th>2018-06-03</th>\n",
              "      <td>7714.26</td>\n",
              "      <td>23</td>\n",
              "      <td>619.66</td>\n",
              "      <td>52.138294</td>\n",
              "    </tr>\n",
              "    <tr>\n",
              "      <th>...</th>\n",
              "      <td>...</td>\n",
              "      <td>...</td>\n",
              "      <td>...</td>\n",
              "      <td>...</td>\n",
              "    </tr>\n",
              "    <tr>\n",
              "      <th>2022-08-18</th>\n",
              "      <td>23191.20</td>\n",
              "      <td>11</td>\n",
              "      <td>1846.39</td>\n",
              "      <td>55.522683</td>\n",
              "    </tr>\n",
              "    <tr>\n",
              "      <th>2022-08-19</th>\n",
              "      <td>20834.39</td>\n",
              "      <td>24</td>\n",
              "      <td>1609.01</td>\n",
              "      <td>31.810728</td>\n",
              "    </tr>\n",
              "    <tr>\n",
              "      <th>2022-08-20</th>\n",
              "      <td>21140.07</td>\n",
              "      <td>40</td>\n",
              "      <td>1576.04</td>\n",
              "      <td>36.580336</td>\n",
              "    </tr>\n",
              "    <tr>\n",
              "      <th>2022-08-21</th>\n",
              "      <td>21515.61</td>\n",
              "      <td>15</td>\n",
              "      <td>1618.13</td>\n",
              "      <td>38.005270</td>\n",
              "    </tr>\n",
              "    <tr>\n",
              "      <th>2022-08-22</th>\n",
              "      <td>21426.14</td>\n",
              "      <td>30</td>\n",
              "      <td>1602.37</td>\n",
              "      <td>31.283917</td>\n",
              "    </tr>\n",
              "  </tbody>\n",
              "</table>\n",
              "<p>1546 rows × 4 columns</p>\n",
              "</div>"
            ],
            "text/plain": [
              "               Close  fng_value  pred_close        Rsi\n",
              "Time                                                  \n",
              "2018-05-30   7375.96         23      557.19  52.138294\n",
              "2018-05-31   7485.01         24      577.81  52.138294\n",
              "2018-06-01   7521.01         21      579.00  52.138294\n",
              "2018-06-02   7640.03         27      590.85  52.138294\n",
              "2018-06-03   7714.26         23      619.66  52.138294\n",
              "...              ...        ...         ...        ...\n",
              "2022-08-18  23191.20         11     1846.39  55.522683\n",
              "2022-08-19  20834.39         24     1609.01  31.810728\n",
              "2022-08-20  21140.07         40     1576.04  36.580336\n",
              "2022-08-21  21515.61         15     1618.13  38.005270\n",
              "2022-08-22  21426.14         30     1602.37  31.283917\n",
              "\n",
              "[1546 rows x 4 columns]"
            ]
          },
          "execution_count": 31,
          "metadata": {},
          "output_type": "execute_result"
        }
      ],
      "source": [
        "df_btc"
      ]
    },
    {
      "cell_type": "code",
      "execution_count": null,
      "metadata": {
        "id": "RJJUUsyg0zAr"
      },
      "outputs": [],
      "source": []
    },
    {
      "cell_type": "markdown",
      "metadata": {
        "id": "Cu8ivA290-fB"
      },
      "source": [
        "### sma,lower_bb,upper_bb"
      ]
    },
    {
      "cell_type": "code",
      "execution_count": 32,
      "metadata": {
        "colab": {
          "base_uri": "https://localhost:8080/"
        },
        "id": "jFK-Z-cYjrJb",
        "outputId": "96a1628a-c75d-40c8-e67d-82eb2bfa3661"
      },
      "outputs": [
        {
          "data": {
            "text/html": [
              "<div>\n",
              "<style scoped>\n",
              "    .dataframe tbody tr th:only-of-type {\n",
              "        vertical-align: middle;\n",
              "    }\n",
              "\n",
              "    .dataframe tbody tr th {\n",
              "        vertical-align: top;\n",
              "    }\n",
              "\n",
              "    .dataframe thead th {\n",
              "        text-align: right;\n",
              "    }\n",
              "</style>\n",
              "<table border=\"1\" class=\"dataframe\">\n",
              "  <thead>\n",
              "    <tr style=\"text-align: right;\">\n",
              "      <th></th>\n",
              "      <th>Close</th>\n",
              "      <th>fng_value</th>\n",
              "      <th>pred_close</th>\n",
              "      <th>Rsi</th>\n",
              "      <th>sma_20</th>\n",
              "    </tr>\n",
              "    <tr>\n",
              "      <th>Time</th>\n",
              "      <th></th>\n",
              "      <th></th>\n",
              "      <th></th>\n",
              "      <th></th>\n",
              "      <th></th>\n",
              "    </tr>\n",
              "  </thead>\n",
              "  <tbody>\n",
              "    <tr>\n",
              "      <th>2022-08-18</th>\n",
              "      <td>23191.20</td>\n",
              "      <td>11</td>\n",
              "      <td>1846.39</td>\n",
              "      <td>55.522683</td>\n",
              "      <td>1776.8555</td>\n",
              "    </tr>\n",
              "    <tr>\n",
              "      <th>2022-08-19</th>\n",
              "      <td>20834.39</td>\n",
              "      <td>24</td>\n",
              "      <td>1609.01</td>\n",
              "      <td>31.810728</td>\n",
              "      <td>1772.4560</td>\n",
              "    </tr>\n",
              "    <tr>\n",
              "      <th>2022-08-20</th>\n",
              "      <td>21140.07</td>\n",
              "      <td>40</td>\n",
              "      <td>1576.04</td>\n",
              "      <td>36.580336</td>\n",
              "      <td>1767.3520</td>\n",
              "    </tr>\n",
              "    <tr>\n",
              "      <th>2022-08-21</th>\n",
              "      <td>21515.61</td>\n",
              "      <td>15</td>\n",
              "      <td>1618.13</td>\n",
              "      <td>38.005270</td>\n",
              "      <td>1766.7445</td>\n",
              "    </tr>\n",
              "    <tr>\n",
              "      <th>2022-08-22</th>\n",
              "      <td>21426.14</td>\n",
              "      <td>30</td>\n",
              "      <td>1602.37</td>\n",
              "      <td>31.283917</td>\n",
              "      <td>1765.3175</td>\n",
              "    </tr>\n",
              "  </tbody>\n",
              "</table>\n",
              "</div>"
            ],
            "text/plain": [
              "               Close  fng_value  pred_close        Rsi     sma_20\n",
              "Time                                                             \n",
              "2022-08-18  23191.20         11     1846.39  55.522683  1776.8555\n",
              "2022-08-19  20834.39         24     1609.01  31.810728  1772.4560\n",
              "2022-08-20  21140.07         40     1576.04  36.580336  1767.3520\n",
              "2022-08-21  21515.61         15     1618.13  38.005270  1766.7445\n",
              "2022-08-22  21426.14         30     1602.37  31.283917  1765.3175"
            ]
          },
          "execution_count": 32,
          "metadata": {},
          "output_type": "execute_result"
        }
      ],
      "source": [
        "##Calculating SMA values In this part, we are going to calculate the SMA values \n",
        "#of altcoin with the number of periods as 20.\n",
        "\n",
        "def sma(data, window):\n",
        "    sma = data.rolling(window = window).mean()\n",
        "    return sma\n",
        "\n",
        "df_btc['sma_20'] = sma(df_second['Close'], 20)\n",
        "df_btc.tail()"
      ]
    },
    {
      "cell_type": "code",
      "execution_count": 33,
      "metadata": {
        "colab": {
          "base_uri": "https://localhost:8080/"
        },
        "id": "0xzf2VH1kEuz",
        "outputId": "a8af5e17-2ed9-403d-f0c3-5e423f0fd63a"
      },
      "outputs": [
        {
          "data": {
            "text/html": [
              "<div>\n",
              "<style scoped>\n",
              "    .dataframe tbody tr th:only-of-type {\n",
              "        vertical-align: middle;\n",
              "    }\n",
              "\n",
              "    .dataframe tbody tr th {\n",
              "        vertical-align: top;\n",
              "    }\n",
              "\n",
              "    .dataframe thead th {\n",
              "        text-align: right;\n",
              "    }\n",
              "</style>\n",
              "<table border=\"1\" class=\"dataframe\">\n",
              "  <thead>\n",
              "    <tr style=\"text-align: right;\">\n",
              "      <th></th>\n",
              "      <th>Close</th>\n",
              "      <th>fng_value</th>\n",
              "      <th>pred_close</th>\n",
              "      <th>Rsi</th>\n",
              "      <th>sma_20</th>\n",
              "      <th>upper_bb</th>\n",
              "      <th>lower_bb</th>\n",
              "    </tr>\n",
              "    <tr>\n",
              "      <th>Time</th>\n",
              "      <th></th>\n",
              "      <th></th>\n",
              "      <th></th>\n",
              "      <th></th>\n",
              "      <th></th>\n",
              "      <th></th>\n",
              "      <th></th>\n",
              "    </tr>\n",
              "  </thead>\n",
              "  <tbody>\n",
              "    <tr>\n",
              "      <th>2018-05-30</th>\n",
              "      <td>7375.96</td>\n",
              "      <td>23</td>\n",
              "      <td>557.19</td>\n",
              "      <td>52.138294</td>\n",
              "      <td>NaN</td>\n",
              "      <td>NaN</td>\n",
              "      <td>NaN</td>\n",
              "    </tr>\n",
              "    <tr>\n",
              "      <th>2018-05-31</th>\n",
              "      <td>7485.01</td>\n",
              "      <td>24</td>\n",
              "      <td>577.81</td>\n",
              "      <td>52.138294</td>\n",
              "      <td>NaN</td>\n",
              "      <td>NaN</td>\n",
              "      <td>NaN</td>\n",
              "    </tr>\n",
              "  </tbody>\n",
              "</table>\n",
              "</div>"
            ],
            "text/plain": [
              "              Close  fng_value  pred_close        Rsi  sma_20  upper_bb  \\\n",
              "Time                                                                      \n",
              "2018-05-30  7375.96         23      557.19  52.138294     NaN       NaN   \n",
              "2018-05-31  7485.01         24      577.81  52.138294     NaN       NaN   \n",
              "\n",
              "            lower_bb  \n",
              "Time                  \n",
              "2018-05-30       NaN  \n",
              "2018-05-31       NaN  "
            ]
          },
          "execution_count": 33,
          "metadata": {},
          "output_type": "execute_result"
        }
      ],
      "source": [
        "#Calculating Bollinger Bands: In this part, we are going to calculate \n",
        "#the Bollinger Bands values of Tesla using the SMA values which we have created earlier.\n",
        "def bb(data, sma, window):\n",
        "    std = data.rolling(window = window).std()\n",
        "    upper_bb = sma + std * 2\n",
        "    lower_bb = sma - std * 2\n",
        "    return upper_bb, lower_bb\n",
        "\n",
        "df_btc['upper_bb'], df_btc['lower_bb'] = bb(df_btc['pred_close'], df_btc['sma_20'], 20)\n",
        "df_btc.head(2)"
      ]
    },
    {
      "cell_type": "code",
      "execution_count": 34,
      "metadata": {
        "id": "rrgJeEoI4hsH"
      },
      "outputs": [],
      "source": [
        "mean_sma_20=df_btc['sma_20'].mean()\n",
        "df_btc['sma_20']=df_btc['sma_20'].fillna(mean_sma_20)\n",
        "mean_upper_bb=df_btc['upper_bb'].mean()\n",
        "df_btc['upper_bb']=df_btc['upper_bb'].fillna(mean_upper_bb)\n",
        "mean_lower_bb=df_btc['lower_bb'].mean()\n",
        "df_btc['lower_bb']=df_btc['lower_bb'].fillna(mean_lower_bb)"
      ]
    },
    {
      "cell_type": "code",
      "execution_count": 35,
      "metadata": {
        "colab": {
          "base_uri": "https://localhost:8080/"
        },
        "id": "buxhdncS4pFG",
        "outputId": "22fb4079-fda8-4035-c392-b9af02eda995"
      },
      "outputs": [
        {
          "data": {
            "text/html": [
              "<div>\n",
              "<style scoped>\n",
              "    .dataframe tbody tr th:only-of-type {\n",
              "        vertical-align: middle;\n",
              "    }\n",
              "\n",
              "    .dataframe tbody tr th {\n",
              "        vertical-align: top;\n",
              "    }\n",
              "\n",
              "    .dataframe thead th {\n",
              "        text-align: right;\n",
              "    }\n",
              "</style>\n",
              "<table border=\"1\" class=\"dataframe\">\n",
              "  <thead>\n",
              "    <tr style=\"text-align: right;\">\n",
              "      <th></th>\n",
              "      <th>Close</th>\n",
              "      <th>fng_value</th>\n",
              "      <th>pred_close</th>\n",
              "      <th>Rsi</th>\n",
              "      <th>sma_20</th>\n",
              "      <th>upper_bb</th>\n",
              "      <th>lower_bb</th>\n",
              "    </tr>\n",
              "    <tr>\n",
              "      <th>Time</th>\n",
              "      <th></th>\n",
              "      <th></th>\n",
              "      <th></th>\n",
              "      <th></th>\n",
              "      <th></th>\n",
              "      <th></th>\n",
              "      <th></th>\n",
              "    </tr>\n",
              "  </thead>\n",
              "  <tbody>\n",
              "    <tr>\n",
              "      <th>2018-05-30</th>\n",
              "      <td>7375.96</td>\n",
              "      <td>23</td>\n",
              "      <td>557.19</td>\n",
              "      <td>52.138294</td>\n",
              "      <td>1165.469038</td>\n",
              "      <td>1360.209267</td>\n",
              "      <td>970.728810</td>\n",
              "    </tr>\n",
              "    <tr>\n",
              "      <th>2018-05-31</th>\n",
              "      <td>7485.01</td>\n",
              "      <td>24</td>\n",
              "      <td>577.81</td>\n",
              "      <td>52.138294</td>\n",
              "      <td>1165.469038</td>\n",
              "      <td>1360.209267</td>\n",
              "      <td>970.728810</td>\n",
              "    </tr>\n",
              "    <tr>\n",
              "      <th>2018-06-01</th>\n",
              "      <td>7521.01</td>\n",
              "      <td>21</td>\n",
              "      <td>579.00</td>\n",
              "      <td>52.138294</td>\n",
              "      <td>1165.469038</td>\n",
              "      <td>1360.209267</td>\n",
              "      <td>970.728810</td>\n",
              "    </tr>\n",
              "    <tr>\n",
              "      <th>2018-06-02</th>\n",
              "      <td>7640.03</td>\n",
              "      <td>27</td>\n",
              "      <td>590.85</td>\n",
              "      <td>52.138294</td>\n",
              "      <td>1165.469038</td>\n",
              "      <td>1360.209267</td>\n",
              "      <td>970.728810</td>\n",
              "    </tr>\n",
              "    <tr>\n",
              "      <th>2018-06-03</th>\n",
              "      <td>7714.26</td>\n",
              "      <td>23</td>\n",
              "      <td>619.66</td>\n",
              "      <td>52.138294</td>\n",
              "      <td>1165.469038</td>\n",
              "      <td>1360.209267</td>\n",
              "      <td>970.728810</td>\n",
              "    </tr>\n",
              "    <tr>\n",
              "      <th>...</th>\n",
              "      <td>...</td>\n",
              "      <td>...</td>\n",
              "      <td>...</td>\n",
              "      <td>...</td>\n",
              "      <td>...</td>\n",
              "      <td>...</td>\n",
              "      <td>...</td>\n",
              "    </tr>\n",
              "    <tr>\n",
              "      <th>2022-08-18</th>\n",
              "      <td>23191.20</td>\n",
              "      <td>11</td>\n",
              "      <td>1846.39</td>\n",
              "      <td>55.522683</td>\n",
              "      <td>1776.855500</td>\n",
              "      <td>2021.101247</td>\n",
              "      <td>1532.609753</td>\n",
              "    </tr>\n",
              "    <tr>\n",
              "      <th>2022-08-19</th>\n",
              "      <td>20834.39</td>\n",
              "      <td>24</td>\n",
              "      <td>1609.01</td>\n",
              "      <td>31.810728</td>\n",
              "      <td>1772.456000</td>\n",
              "      <td>2025.760072</td>\n",
              "      <td>1519.151928</td>\n",
              "    </tr>\n",
              "    <tr>\n",
              "      <th>2022-08-20</th>\n",
              "      <td>21140.07</td>\n",
              "      <td>40</td>\n",
              "      <td>1576.04</td>\n",
              "      <td>36.580336</td>\n",
              "      <td>1767.352000</td>\n",
              "      <td>2032.496638</td>\n",
              "      <td>1502.207362</td>\n",
              "    </tr>\n",
              "    <tr>\n",
              "      <th>2022-08-21</th>\n",
              "      <td>21515.61</td>\n",
              "      <td>15</td>\n",
              "      <td>1618.13</td>\n",
              "      <td>38.005270</td>\n",
              "      <td>1766.744500</td>\n",
              "      <td>2033.263608</td>\n",
              "      <td>1500.225392</td>\n",
              "    </tr>\n",
              "    <tr>\n",
              "      <th>2022-08-22</th>\n",
              "      <td>21426.14</td>\n",
              "      <td>30</td>\n",
              "      <td>1602.37</td>\n",
              "      <td>31.283917</td>\n",
              "      <td>1765.317500</td>\n",
              "      <td>2035.183472</td>\n",
              "      <td>1495.451528</td>\n",
              "    </tr>\n",
              "  </tbody>\n",
              "</table>\n",
              "<p>1546 rows × 7 columns</p>\n",
              "</div>"
            ],
            "text/plain": [
              "               Close  fng_value  pred_close        Rsi       sma_20  \\\n",
              "Time                                                                  \n",
              "2018-05-30   7375.96         23      557.19  52.138294  1165.469038   \n",
              "2018-05-31   7485.01         24      577.81  52.138294  1165.469038   \n",
              "2018-06-01   7521.01         21      579.00  52.138294  1165.469038   \n",
              "2018-06-02   7640.03         27      590.85  52.138294  1165.469038   \n",
              "2018-06-03   7714.26         23      619.66  52.138294  1165.469038   \n",
              "...              ...        ...         ...        ...          ...   \n",
              "2022-08-18  23191.20         11     1846.39  55.522683  1776.855500   \n",
              "2022-08-19  20834.39         24     1609.01  31.810728  1772.456000   \n",
              "2022-08-20  21140.07         40     1576.04  36.580336  1767.352000   \n",
              "2022-08-21  21515.61         15     1618.13  38.005270  1766.744500   \n",
              "2022-08-22  21426.14         30     1602.37  31.283917  1765.317500   \n",
              "\n",
              "               upper_bb     lower_bb  \n",
              "Time                                  \n",
              "2018-05-30  1360.209267   970.728810  \n",
              "2018-05-31  1360.209267   970.728810  \n",
              "2018-06-01  1360.209267   970.728810  \n",
              "2018-06-02  1360.209267   970.728810  \n",
              "2018-06-03  1360.209267   970.728810  \n",
              "...                 ...          ...  \n",
              "2022-08-18  2021.101247  1532.609753  \n",
              "2022-08-19  2025.760072  1519.151928  \n",
              "2022-08-20  2032.496638  1502.207362  \n",
              "2022-08-21  2033.263608  1500.225392  \n",
              "2022-08-22  2035.183472  1495.451528  \n",
              "\n",
              "[1546 rows x 7 columns]"
            ]
          },
          "execution_count": 35,
          "metadata": {},
          "output_type": "execute_result"
        }
      ],
      "source": [
        "df_btc"
      ]
    },
    {
      "cell_type": "markdown",
      "metadata": {
        "id": "X09B_Fl85TFB"
      },
      "source": [
        "### Weighted Average "
      ]
    },
    {
      "cell_type": "code",
      "execution_count": 36,
      "metadata": {
        "id": "lVbBdZOa5XcS"
      },
      "outputs": [],
      "source": [
        "#calculating Weighted Average\n",
        "df_btc['Weighted_Average']=(df_btc['Close']*10+df_btc['fng_value']*2+df_btc['Rsi']*2+df_btc['sma_20']*4++df_btc['lower_bb']*4++df_btc['upper_bb']*4)/26"
      ]
    },
    {
      "cell_type": "code",
      "execution_count": 37,
      "metadata": {
        "id": "hnan1IEo5YL1"
      },
      "outputs": [],
      "source": [
        "df_btc.to_csv(\"btcdata.csv\")"
      ]
    },
    {
      "cell_type": "markdown",
      "metadata": {
        "id": "Q2orvyVV5oTA"
      },
      "source": [
        "### Spliting"
      ]
    },
    {
      "cell_type": "code",
      "execution_count": 38,
      "metadata": {
        "id": "wFxuOLn45tux"
      },
      "outputs": [],
      "source": [
        "C=df_btc[['Weighted_Average']]\n",
        "D=df_btc[['pred_close']]"
      ]
    },
    {
      "cell_type": "code",
      "execution_count": 39,
      "metadata": {
        "colab": {
          "base_uri": "https://localhost:8080/"
        },
        "id": "7tuJ3PC-53ru",
        "outputId": "be35531d-c31f-46d6-919c-016bed419f7c"
      },
      "outputs": [
        {
          "data": {
            "text/html": [
              "<style>#sk-container-id-1 {color: black;background-color: white;}#sk-container-id-1 pre{padding: 0;}#sk-container-id-1 div.sk-toggleable {background-color: white;}#sk-container-id-1 label.sk-toggleable__label {cursor: pointer;display: block;width: 100%;margin-bottom: 0;padding: 0.3em;box-sizing: border-box;text-align: center;}#sk-container-id-1 label.sk-toggleable__label-arrow:before {content: \"▸\";float: left;margin-right: 0.25em;color: #696969;}#sk-container-id-1 label.sk-toggleable__label-arrow:hover:before {color: black;}#sk-container-id-1 div.sk-estimator:hover label.sk-toggleable__label-arrow:before {color: black;}#sk-container-id-1 div.sk-toggleable__content {max-height: 0;max-width: 0;overflow: hidden;text-align: left;background-color: #f0f8ff;}#sk-container-id-1 div.sk-toggleable__content pre {margin: 0.2em;color: black;border-radius: 0.25em;background-color: #f0f8ff;}#sk-container-id-1 input.sk-toggleable__control:checked~div.sk-toggleable__content {max-height: 200px;max-width: 100%;overflow: auto;}#sk-container-id-1 input.sk-toggleable__control:checked~label.sk-toggleable__label-arrow:before {content: \"▾\";}#sk-container-id-1 div.sk-estimator input.sk-toggleable__control:checked~label.sk-toggleable__label {background-color: #d4ebff;}#sk-container-id-1 div.sk-label input.sk-toggleable__control:checked~label.sk-toggleable__label {background-color: #d4ebff;}#sk-container-id-1 input.sk-hidden--visually {border: 0;clip: rect(1px 1px 1px 1px);clip: rect(1px, 1px, 1px, 1px);height: 1px;margin: -1px;overflow: hidden;padding: 0;position: absolute;width: 1px;}#sk-container-id-1 div.sk-estimator {font-family: monospace;background-color: #f0f8ff;border: 1px dotted black;border-radius: 0.25em;box-sizing: border-box;margin-bottom: 0.5em;}#sk-container-id-1 div.sk-estimator:hover {background-color: #d4ebff;}#sk-container-id-1 div.sk-parallel-item::after {content: \"\";width: 100%;border-bottom: 1px solid gray;flex-grow: 1;}#sk-container-id-1 div.sk-label:hover label.sk-toggleable__label {background-color: #d4ebff;}#sk-container-id-1 div.sk-serial::before {content: \"\";position: absolute;border-left: 1px solid gray;box-sizing: border-box;top: 0;bottom: 0;left: 50%;z-index: 0;}#sk-container-id-1 div.sk-serial {display: flex;flex-direction: column;align-items: center;background-color: white;padding-right: 0.2em;padding-left: 0.2em;position: relative;}#sk-container-id-1 div.sk-item {position: relative;z-index: 1;}#sk-container-id-1 div.sk-parallel {display: flex;align-items: stretch;justify-content: center;background-color: white;position: relative;}#sk-container-id-1 div.sk-item::before, #sk-container-id-1 div.sk-parallel-item::before {content: \"\";position: absolute;border-left: 1px solid gray;box-sizing: border-box;top: 0;bottom: 0;left: 50%;z-index: -1;}#sk-container-id-1 div.sk-parallel-item {display: flex;flex-direction: column;z-index: 1;position: relative;background-color: white;}#sk-container-id-1 div.sk-parallel-item:first-child::after {align-self: flex-end;width: 50%;}#sk-container-id-1 div.sk-parallel-item:last-child::after {align-self: flex-start;width: 50%;}#sk-container-id-1 div.sk-parallel-item:only-child::after {width: 0;}#sk-container-id-1 div.sk-dashed-wrapped {border: 1px dashed gray;margin: 0 0.4em 0.5em 0.4em;box-sizing: border-box;padding-bottom: 0.4em;background-color: white;}#sk-container-id-1 div.sk-label label {font-family: monospace;font-weight: bold;display: inline-block;line-height: 1.2em;}#sk-container-id-1 div.sk-label-container {text-align: center;}#sk-container-id-1 div.sk-container {/* jupyter's `normalize.less` sets `[hidden] { display: none; }` but bootstrap.min.css set `[hidden] { display: none !important; }` so we also need the `!important` here to be able to override the default hidden behavior on the sphinx rendered scikit-learn.org. See: https://github.com/scikit-learn/scikit-learn/issues/21755 */display: inline-block !important;position: relative;}#sk-container-id-1 div.sk-text-repr-fallback {display: none;}</style><div id=\"sk-container-id-1\" class=\"sk-top-container\"><div class=\"sk-text-repr-fallback\"><pre>DecisionTreeRegressor()</pre><b>In a Jupyter environment, please rerun this cell to show the HTML representation or trust the notebook. <br />On GitHub, the HTML representation is unable to render, please try loading this page with nbviewer.org.</b></div><div class=\"sk-container\" hidden><div class=\"sk-item\"><div class=\"sk-estimator sk-toggleable\"><input class=\"sk-toggleable__control sk-hidden--visually\" id=\"sk-estimator-id-1\" type=\"checkbox\" checked><label for=\"sk-estimator-id-1\" class=\"sk-toggleable__label sk-toggleable__label-arrow\">DecisionTreeRegressor</label><div class=\"sk-toggleable__content\"><pre>DecisionTreeRegressor()</pre></div></div></div></div></div>"
            ],
            "text/plain": [
              "DecisionTreeRegressor()"
            ]
          },
          "execution_count": 39,
          "metadata": {},
          "output_type": "execute_result"
        }
      ],
      "source": [
        "from sklearn.model_selection import train_test_split\n",
        "\n",
        "c_train, c_test, d_train, d_test = train_test_split(C, D, test_size=0.2, random_state=13)\n",
        "\n",
        "from sklearn.tree import DecisionTreeRegressor\n",
        "from sklearn.metrics import accuracy_score\n",
        "DecisionTreeRegressor=DecisionTreeRegressor()\n",
        "DecisionTreeRegressor.fit(c_train,d_train)"
      ]
    },
    {
      "cell_type": "code",
      "execution_count": 40,
      "metadata": {
        "colab": {
          "base_uri": "https://localhost:8080/"
        },
        "id": "nu8EV6AHO_xB",
        "outputId": "0b4cc5ad-aa14-4b89-a320-feceea749de5"
      },
      "outputs": [
        {
          "data": {
            "text/plain": [
              "1.0"
            ]
          },
          "execution_count": 40,
          "metadata": {},
          "output_type": "execute_result"
        }
      ],
      "source": [
        "DecisionTreeRegressor.score(c_train,d_train)"
      ]
    },
    {
      "cell_type": "markdown",
      "metadata": {
        "id": "Gf__maeJCkIC"
      },
      "source": [
        "## Linear Regression"
      ]
    },
    {
      "cell_type": "code",
      "execution_count": 41,
      "metadata": {
        "colab": {
          "base_uri": "https://localhost:8080/"
        },
        "id": "2pCCllkzCoq3",
        "outputId": "dbdd469e-0c8d-4b23-c53a-04106834928e"
      },
      "outputs": [
        {
          "data": {
            "text/plain": [
              "0.8913110298899937"
            ]
          },
          "execution_count": 41,
          "metadata": {},
          "output_type": "execute_result"
        }
      ],
      "source": [
        "#creating a model\n",
        "from sklearn.linear_model import LinearRegression\n",
        "\n",
        "# creating a object\n",
        "regressor = LinearRegression()\n",
        "\n",
        "#training the model\n",
        "regressor.fit(c_train,d_train)\n",
        "\n",
        "regressor.score(c_train,d_train)\n"
      ]
    },
    {
      "cell_type": "markdown",
      "metadata": {
        "id": "rZXXQkXTF3OM"
      },
      "source": [
        "## Random Forest"
      ]
    },
    {
      "cell_type": "code",
      "execution_count": 42,
      "metadata": {
        "colab": {
          "base_uri": "https://localhost:8080/"
        },
        "id": "reyCdU3qF57f",
        "outputId": "06eebf4f-5c0b-4e48-f3d0-af23487d9b5f"
      },
      "outputs": [
        {
          "name": "stderr",
          "output_type": "stream",
          "text": [
            "C:\\Users\\MUHAMMAD SAAD\\AppData\\Local\\Temp\\ipykernel_3948\\3071059824.py:9: DataConversionWarning: A column-vector y was passed when a 1d array was expected. Please change the shape of y to (n_samples,), for example using ravel().\n",
            "  RandomForestRegressor.fit(c_train,d_train)\n"
          ]
        },
        {
          "data": {
            "text/plain": [
              "0.9838611526998399"
            ]
          },
          "execution_count": 42,
          "metadata": {},
          "output_type": "execute_result"
        }
      ],
      "source": [
        "\n",
        "# Fitting Random Forest Regression to the dataset\n",
        "# import the regressor\n",
        "from sklearn.ensemble import RandomForestRegressor\n",
        " \n",
        " # create regressor object\n",
        "RandomForestRegressor = RandomForestRegressor(n_estimators = 100, random_state = 56)\n",
        " \n",
        "# fit the regressor with x and y data\n",
        "RandomForestRegressor.fit(c_train,d_train)\n",
        "RandomForestRegressor.score(c_train,d_train)"
      ]
    },
    {
      "cell_type": "markdown",
      "metadata": {
        "id": "64pa2sf2IGV8"
      },
      "source": [
        "##Lasso Regression"
      ]
    },
    {
      "cell_type": "code",
      "execution_count": 43,
      "metadata": {
        "colab": {
          "base_uri": "https://localhost:8080/"
        },
        "id": "DPO7FYAOILva",
        "outputId": "fe8c9577-1e96-4e14-9022-6919a504d1c8"
      },
      "outputs": [
        {
          "data": {
            "text/plain": [
              "0.8913110298899829"
            ]
          },
          "execution_count": 43,
          "metadata": {},
          "output_type": "execute_result"
        }
      ],
      "source": [
        "from sklearn.linear_model import Lasso\n",
        "\n",
        "# Create an instance of Lasso Regression implementation\n",
        "\n",
        "lasso = Lasso(alpha=1.0)\n",
        "\n",
        "# Fit the Lasso model\n",
        "\n",
        "lasso.fit(c_train,d_train)\n",
        "#\n",
        "# Create the model score\n",
        "#\n",
        "# lasso.score(c_test, d_test)\n",
        "lasso.score(c_train,d_train)"
      ]
    },
    {
      "cell_type": "markdown",
      "metadata": {
        "id": "26fj6eCtyNOu"
      },
      "source": [
        "## Ridge Regression"
      ]
    },
    {
      "cell_type": "code",
      "execution_count": 44,
      "metadata": {
        "colab": {
          "base_uri": "https://localhost:8080/"
        },
        "id": "r3rHz9b9JhSI",
        "outputId": "a803f583-6732-4b0a-f73a-dc8f2b3bc890"
      },
      "outputs": [
        {
          "data": {
            "text/plain": [
              "0.8913110298899937"
            ]
          },
          "execution_count": 44,
          "metadata": {},
          "output_type": "execute_result"
        }
      ],
      "source": [
        "from sklearn.linear_model import Ridge\n",
        "clf = Ridge(alpha=1.0)\n",
        "clf.fit(c_train,d_train)\n",
        "clf.score(c_train,d_train)"
      ]
    },
    {
      "cell_type": "markdown",
      "metadata": {
        "id": "tJI38WYAyUK1"
      },
      "source": [
        "## SVR"
      ]
    },
    {
      "cell_type": "code",
      "execution_count": 45,
      "metadata": {
        "colab": {
          "base_uri": "https://localhost:8080/"
        },
        "id": "GoL6FO8cyZY3",
        "outputId": "888bae77-c2dc-4a4f-b517-b9f4b64ed57e"
      },
      "outputs": [
        {
          "name": "stderr",
          "output_type": "stream",
          "text": [
            "c:\\Users\\MUHAMMAD SAAD\\AppData\\Local\\Programs\\Python\\Python310\\lib\\site-packages\\sklearn\\utils\\validation.py:1111: DataConversionWarning: A column-vector y was passed when a 1d array was expected. Please change the shape of y to (n_samples, ), for example using ravel().\n",
            "  y = column_or_1d(y, warn=True)\n"
          ]
        },
        {
          "data": {
            "text/plain": [
              "0.18839545710355832"
            ]
          },
          "execution_count": 45,
          "metadata": {},
          "output_type": "execute_result"
        }
      ],
      "source": [
        "from sklearn.svm import SVR\n",
        "svm = SVR()\n",
        "svm.fit(c_train,d_train)\n",
        "svm.score(c_train,d_train)"
      ]
    },
    {
      "cell_type": "markdown",
      "metadata": {
        "id": "GuERaRP4ytqx"
      },
      "source": [
        "## Gradient Boosting regression"
      ]
    },
    {
      "cell_type": "code",
      "execution_count": 46,
      "metadata": {
        "colab": {
          "base_uri": "https://localhost:8080/"
        },
        "id": "Ee-yRKa_y1oN",
        "outputId": "61ee0cc9-dbb0-4a28-f831-98b4ce1ef5af"
      },
      "outputs": [
        {
          "name": "stderr",
          "output_type": "stream",
          "text": [
            "c:\\Users\\MUHAMMAD SAAD\\AppData\\Local\\Programs\\Python\\Python310\\lib\\site-packages\\sklearn\\ensemble\\_gb.py:570: DataConversionWarning: A column-vector y was passed when a 1d array was expected. Please change the shape of y to (n_samples, ), for example using ravel().\n",
            "  y = column_or_1d(y, warn=True)\n"
          ]
        },
        {
          "data": {
            "text/plain": [
              "0.9511096344937251"
            ]
          },
          "execution_count": 46,
          "metadata": {},
          "output_type": "execute_result"
        }
      ],
      "source": [
        "from sklearn.ensemble import GradientBoostingRegressor\n",
        "\n",
        "gbr = GradientBoostingRegressor()\n",
        "gbr.fit(c_train,d_train)\n",
        "gbr.score(c_train,d_train)\n"
      ]
    },
    {
      "cell_type": "markdown",
      "metadata": {
        "id": "5tTyVPpnzCU0"
      },
      "source": [
        "## AdaBoost Regressor"
      ]
    },
    {
      "cell_type": "code",
      "execution_count": 47,
      "metadata": {
        "colab": {
          "base_uri": "https://localhost:8080/"
        },
        "id": "3UBDC5vAzGV2",
        "outputId": "552152a6-5065-4816-99cb-d81213140efd"
      },
      "outputs": [
        {
          "name": "stderr",
          "output_type": "stream",
          "text": [
            "c:\\Users\\MUHAMMAD SAAD\\AppData\\Local\\Programs\\Python\\Python310\\lib\\site-packages\\sklearn\\utils\\validation.py:1111: DataConversionWarning: A column-vector y was passed when a 1d array was expected. Please change the shape of y to (n_samples, ), for example using ravel().\n",
            "  y = column_or_1d(y, warn=True)\n"
          ]
        },
        {
          "data": {
            "text/plain": [
              "0.9085594976202775"
            ]
          },
          "execution_count": 47,
          "metadata": {},
          "output_type": "execute_result"
        }
      ],
      "source": [
        "from sklearn.ensemble import AdaBoostRegressor\n",
        "abr = AdaBoostRegressor()\n",
        "abr.fit(c_train,d_train)\n",
        "abr.score(c_train,d_train)"
      ]
    },
    {
      "cell_type": "markdown",
      "metadata": {
        "id": "RyWtLRw_zkgj"
      },
      "source": [
        "## Begging Regressor"
      ]
    },
    {
      "cell_type": "code",
      "execution_count": 48,
      "metadata": {
        "colab": {
          "base_uri": "https://localhost:8080/"
        },
        "id": "Gn3oxlVCzbZB",
        "outputId": "d5d5de06-4fd8-4087-cfe9-7cfc5526196a"
      },
      "outputs": [
        {
          "name": "stderr",
          "output_type": "stream",
          "text": [
            "c:\\Users\\MUHAMMAD SAAD\\AppData\\Local\\Programs\\Python\\Python310\\lib\\site-packages\\sklearn\\ensemble\\_bagging.py:470: DataConversionWarning: A column-vector y was passed when a 1d array was expected. Please change the shape of y to (n_samples, ), for example using ravel().\n",
            "  return column_or_1d(y, warn=True)\n"
          ]
        },
        {
          "data": {
            "text/plain": [
              "0.9800164502199196"
            ]
          },
          "execution_count": 48,
          "metadata": {},
          "output_type": "execute_result"
        }
      ],
      "source": [
        "#other regressor models\n",
        "from sklearn.ensemble import BaggingRegressor\n",
        "br = BaggingRegressor()\n",
        "br.fit(c_train,d_train)\n",
        "br.score(c_train,d_train)\n"
      ]
    },
    {
      "cell_type": "markdown",
      "metadata": {
        "id": "ZCTKYLOGz4YT"
      },
      "source": [
        "## Voting Regressor"
      ]
    },
    {
      "cell_type": "code",
      "execution_count": 49,
      "metadata": {
        "colab": {
          "base_uri": "https://localhost:8080/"
        },
        "id": "Hk8YzK1Ez6OT",
        "outputId": "677ff9d7-243e-47d7-eb9f-b3bec7d31d56"
      },
      "outputs": [
        {
          "name": "stderr",
          "output_type": "stream",
          "text": [
            "c:\\Users\\MUHAMMAD SAAD\\AppData\\Local\\Programs\\Python\\Python310\\lib\\site-packages\\sklearn\\ensemble\\_voting.py:600: DataConversionWarning: A column-vector y was passed when a 1d array was expected. Please change the shape of y to (n_samples, ), for example using ravel().\n",
            "  y = column_or_1d(y, warn=True)\n"
          ]
        },
        {
          "data": {
            "text/plain": [
              "0.946313767407606"
            ]
          },
          "execution_count": 49,
          "metadata": {},
          "output_type": "execute_result"
        }
      ],
      "source": [
        "from sklearn.ensemble import VotingRegressor\n",
        "voting_reg = VotingRegressor(estimators=[('lr',regressor),('rf',RandomForestRegressor),('dt',DecisionTreeRegressor),('svm',svm),('gbr',gbr),('abr',abr),('br',br)])\n",
        "voting_reg.fit(c_train,d_train)\n",
        "voting_reg.score(c_train,d_train)\n"
      ]
    },
    {
      "cell_type": "markdown",
      "metadata": {
        "id": "Nx2N-j3Y1AIM"
      },
      "source": [
        "## Stacking Regression\n"
      ]
    },
    {
      "cell_type": "code",
      "execution_count": 50,
      "metadata": {
        "colab": {
          "base_uri": "https://localhost:8080/"
        },
        "id": "FlSX8h_31GGm",
        "outputId": "1fe7ff8d-9b94-495d-b7d9-f04903ce2298"
      },
      "outputs": [
        {
          "name": "stderr",
          "output_type": "stream",
          "text": [
            "c:\\Users\\MUHAMMAD SAAD\\AppData\\Local\\Programs\\Python\\Python310\\lib\\site-packages\\sklearn\\ensemble\\_stacking.py:865: DataConversionWarning: A column-vector y was passed when a 1d array was expected. Please change the shape of y to (n_samples, ), for example using ravel().\n",
            "  y = column_or_1d(y, warn=True)\n"
          ]
        },
        {
          "data": {
            "text/plain": [
              "0.9263178862714418"
            ]
          },
          "execution_count": 50,
          "metadata": {},
          "output_type": "execute_result"
        }
      ],
      "source": [
        "#other regressor models\n",
        "from sklearn.ensemble import StackingRegressor\n",
        "stacking_reg = StackingRegressor(estimators=[('lr',regressor),('rf',RandomForestRegressor),('dt',DecisionTreeRegressor),('svm',svm),('gbr',gbr),('abr',abr),('br',br)])\n",
        "stacking_reg.fit(c_train,d_train)\n",
        "stacking_reg.score(c_train,d_train)\n"
      ]
    },
    {
      "cell_type": "markdown",
      "metadata": {
        "id": "EoPnMwK0DPQr"
      },
      "source": [
        "## Testing"
      ]
    },
    {
      "cell_type": "code",
      "execution_count": 51,
      "metadata": {
        "id": "lKnEUbr76rBk"
      },
      "outputs": [],
      "source": [
        "testing_df=df_btc.tail(400)\n",
        "testing_df_close=testing_df['Weighted_Average']\n",
        "testing_df_close=pd.DataFrame(data=testing_df_close)\n",
        "testing_bnb=df_second.tail(400)"
      ]
    },
    {
      "cell_type": "code",
      "execution_count": 52,
      "metadata": {
        "id": "-ajVmV7S667K"
      },
      "outputs": [],
      "source": [
        "data_frame3=testing_df\n",
        "data_frame3.reset_index(inplace=True)"
      ]
    },
    {
      "cell_type": "code",
      "execution_count": 53,
      "metadata": {
        "id": "E8djnBTq68yY"
      },
      "outputs": [],
      "source": [
        "date_column3=data_frame3['Time']\n",
        "Time3=date_column3.to_list()"
      ]
    },
    {
      "cell_type": "code",
      "execution_count": 54,
      "metadata": {
        "id": "NaSJmWX26SJB"
      },
      "outputs": [],
      "source": [
        "res3=RandomForestRegressor.predict(testing_df_close)"
      ]
    },
    {
      "cell_type": "code",
      "execution_count": 55,
      "metadata": {
        "id": "fUz7x7-d7oZY"
      },
      "outputs": [],
      "source": [
        "result3=pd.DataFrame(data=res3)\n",
        "result3['Time']=Time3\n",
        "result3.set_index('Time', inplace=True)"
      ]
    },
    {
      "cell_type": "code",
      "execution_count": 56,
      "metadata": {
        "colab": {
          "base_uri": "https://localhost:8080/"
        },
        "id": "pPx7eANl8ke_",
        "outputId": "5bec3b13-f7cc-45bd-8885-3392006933a6"
      },
      "outputs": [
        {
          "data": {
            "text/plain": [
              "Time\n",
              "2021-07-19    1818.73\n",
              "2021-07-20    1786.03\n",
              "2021-07-21    1995.50\n",
              "2021-07-22    2024.56\n",
              "2021-07-23    2124.25\n",
              "               ...   \n",
              "2022-08-18    1846.39\n",
              "2022-08-19    1609.01\n",
              "2022-08-20    1576.04\n",
              "2022-08-21    1618.13\n",
              "2022-08-22    1602.37\n",
              "Name: Close, Length: 400, dtype: float64"
            ]
          },
          "execution_count": 56,
          "metadata": {},
          "output_type": "execute_result"
        }
      ],
      "source": [
        "testing_bnb['Close']"
      ]
    },
    {
      "cell_type": "code",
      "execution_count": 57,
      "metadata": {
        "colab": {
          "base_uri": "https://localhost:8080/"
        },
        "id": "PCJ0g3x276xL",
        "outputId": "a8d112c1-bece-49e8-f82c-52c87e842aaa"
      },
      "outputs": [
        {
          "data": {
            "image/png": "[encoded data removed]",
            "text/plain": [
              "<Figure size 1120x480 with 1 Axes>"
            ]
          },
          "metadata": {
            "needs_background": "light"
          },
          "output_type": "display_data"
        }
      ],
      "source": [
        "import matplotlib.pyplot as plt\n",
        "from matplotlib.pyplot import figure\n",
        "\n",
        "figure(figsize=(14, 6), dpi=80)\n",
        "\n",
        "line1, = plt.plot(testing_bnb['Close'], color = 'r',label=\"Actual\")#Actual\n",
        "# plt.plot(result[0], color = 'green',label=\"Pred\")\n",
        "# plt.plot(result1[0], color = 'black',label=\"Pred\")#Prediction of Price using Fear and Greed index\n",
        "\n",
        "# line2, = plt.plot(result2[0], color = 'orange',label=\"weighted average of greed&Fear and Bitcoin Price\") #weighted average of greed& Fear and Bitcoin Price \n",
        "line3, = plt.plot(result3[0], color = 'blue',label=\"weighted average of greed&Fear,Bitcoin Price ,RSI,sma_20,upper_bb and lower_bb\") #weighted average of greed& Fear , Bitcoin Price and RSI,sma_20,upper_bb,lower_bb\n",
        "\n",
        "plt.xlabel('Days')\n",
        "plt.ylabel('Price')\n",
        "leg = plt.legend(loc='upper center')\n",
        "plt.show()"
      ]
    },
    {
      "cell_type": "code",
      "execution_count": 58,
      "metadata": {
        "colab": {
          "base_uri": "https://localhost:8080/"
        },
        "id": "jJ9HwKemAegO",
        "outputId": "288df0bf-4ece-488f-c5f0-697ecc23b1d2"
      },
      "outputs": [
        {
          "name": "stdout",
          "output_type": "stream",
          "text": [
            "Accuracy of the Linear Regression   0.784478481217805\n",
            "Accuracy of the Decision Tree       0.9407647092831352\n",
            "Accuracy of the Random Forest       0.9253587123141737\n",
            "Accuracy of the Lasso Regression    0.7844783431536506\n",
            "Accuracy of the Ridge Regression    0.7844784811995273\n",
            "Accuracy of the Support Vector Machine  -3.7529902307846683\n",
            "Accuracy of the Gradient Boosting Regessor  0.8975003606986809\n",
            "Accuracy of the AdaBoost Regessor  0.7088389135799991\n",
            "Accuracy of the Begging  Regessor  0.9049988061463996\n",
            "Accuracy of the voting   Regessor  0.7089265149535956\n",
            "Accuracy of the stacking Regessor  0.8452034537087306\n"
          ]
        }
      ],
      "source": [
        "from sklearn.metrics import r2_score\n",
        "\n",
        "pred1 = DecisionTreeRegressor.predict(testing_df_close)\n",
        "\n",
        "s1=r2_score(testing_bnb['Close'], pred1)\n",
        "\n",
        "\n",
        "\n",
        "preds11 = regressor.predict(testing_df_close)\n",
        "\n",
        "s=r2_score(testing_bnb['Close'], preds11)\n",
        " \n",
        "\n",
        "preds2=RandomForestRegressor.predict(testing_df_close)\n",
        "s2=r2_score(testing_bnb['Close'], preds2)\n",
        "\n",
        "### Predicting using Lasso Regression\n",
        "\n",
        "preds3=lasso.predict(testing_df_close)\n",
        "s3=r2_score(testing_bnb['Close'], preds3)\n",
        "\n",
        "# ### Predicting using SVR\n",
        "\n",
        "preds4=clf.predict(testing_df_close)\n",
        "s4=r2_score(testing_bnb['Close'], preds4)\n",
        "\n",
        "\n",
        "## SVM\n",
        "\n",
        "preds5=svm.predict(testing_df_close)\n",
        "s5=r2_score(testing_bnb['Close'], preds5)\n",
        "\n",
        "## Gradient Boosting Regessor \n",
        "\n",
        "preds6=gbr.predict(testing_df_close)\n",
        "s6=r2_score(testing_bnb['Close'], preds6)\n",
        "\n",
        "## AdaBoost Regessor \n",
        "\n",
        "preds7=abr.predict(testing_df_close)\n",
        "s7=r2_score(testing_bnb['Close'], preds7)\n",
        "\n",
        "##Begging  Regessor\n",
        "\n",
        "preds8=br.predict(testing_df_close)\n",
        "s8=r2_score(testing_bnb['Close'], preds8)\n",
        "\n",
        "##voting Regressor\n",
        "\n",
        "preds9=voting_reg.predict(testing_df_close)\n",
        "s9=r2_score(testing_bnb['Close'], preds9)\n",
        "\n",
        "##stacking Regressor\n",
        "\n",
        "preds10=stacking_reg.predict(testing_df_close)\n",
        "s10=r2_score(testing_bnb['Close'], preds10)\n",
        "\n",
        "\n",
        "\n",
        "print(\"Accuracy of the Linear Regression   \" + str(s))\n",
        "print(\"Accuracy of the Decision Tree       \" + str(s1))\n",
        "print(\"Accuracy of the Random Forest       \" + str(s2))\n",
        "print(\"Accuracy of the Lasso Regression    \" + str(s3))\n",
        "print(\"Accuracy of the Ridge Regression    \" + str(s4))\n",
        "print(\"Accuracy of the Support Vector Machine  \" + str(s5))\n",
        "print(\"Accuracy of the Gradient Boosting Regessor  \" + str(s6))\n",
        "print(\"Accuracy of the AdaBoost Regessor  \" + str(s7))\n",
        "print(\"Accuracy of the Begging  Regessor  \" + str(s8))\n",
        "print(\"Accuracy of the voting   Regessor  \" + str(s9))\n",
        "print(\"Accuracy of the stacking Regessor  \" + str(s10))"
      ]
    },
    {
      "cell_type": "code",
      "execution_count": 59,
      "metadata": {
        "colab": {
          "base_uri": "https://localhost:8080/"
        },
        "id": "TJyF1KqwOzvk",
        "outputId": "17b9e382-e755-4254-918d-8e18296a7759"
      },
      "outputs": [
        {
          "name": "stderr",
          "output_type": "stream",
          "text": [
            "c:\\Users\\MUHAMMAD SAAD\\AppData\\Local\\Programs\\Python\\Python310\\lib\\site-packages\\sklearn\\base.py:450: UserWarning: X does not have valid feature names, but DecisionTreeRegressor was fitted with feature names\n",
            "  warnings.warn(\n",
            "c:\\Users\\MUHAMMAD SAAD\\AppData\\Local\\Programs\\Python\\Python310\\lib\\site-packages\\sklearn\\base.py:450: UserWarning: X does not have valid feature names, but Lasso was fitted with feature names\n",
            "  warnings.warn(\n",
            "c:\\Users\\MUHAMMAD SAAD\\AppData\\Local\\Programs\\Python\\Python310\\lib\\site-packages\\sklearn\\base.py:450: UserWarning: X does not have valid feature names, but LinearRegression was fitted with feature names\n",
            "  warnings.warn(\n",
            "c:\\Users\\MUHAMMAD SAAD\\AppData\\Local\\Programs\\Python\\Python310\\lib\\site-packages\\sklearn\\base.py:450: UserWarning: X does not have valid feature names, but Ridge was fitted with feature names\n",
            "  warnings.warn(\n",
            "c:\\Users\\MUHAMMAD SAAD\\AppData\\Local\\Programs\\Python\\Python310\\lib\\site-packages\\sklearn\\base.py:450: UserWarning: X does not have valid feature names, but RandomForestRegressor was fitted with feature names\n",
            "  warnings.warn(\n",
            "c:\\Users\\MUHAMMAD SAAD\\AppData\\Local\\Programs\\Python\\Python310\\lib\\site-packages\\sklearn\\base.py:450: UserWarning: X does not have valid feature names, but GradientBoostingRegressor was fitted with feature names\n",
            "  warnings.warn(\n",
            "c:\\Users\\MUHAMMAD SAAD\\AppData\\Local\\Programs\\Python\\Python310\\lib\\site-packages\\sklearn\\base.py:450: UserWarning: X does not have valid feature names, but AdaBoostRegressor was fitted with feature names\n",
            "  warnings.warn(\n",
            "c:\\Users\\MUHAMMAD SAAD\\AppData\\Local\\Programs\\Python\\Python310\\lib\\site-packages\\sklearn\\base.py:450: UserWarning: X does not have valid feature names, but BaggingRegressor was fitted with feature names\n",
            "  warnings.warn(\n",
            "c:\\Users\\MUHAMMAD SAAD\\AppData\\Local\\Programs\\Python\\Python310\\lib\\site-packages\\sklearn\\base.py:450: UserWarning: X does not have valid feature names, but LinearRegression was fitted with feature names\n",
            "  warnings.warn(\n",
            "c:\\Users\\MUHAMMAD SAAD\\AppData\\Local\\Programs\\Python\\Python310\\lib\\site-packages\\sklearn\\base.py:450: UserWarning: X does not have valid feature names, but RandomForestRegressor was fitted with feature names\n",
            "  warnings.warn(\n",
            "c:\\Users\\MUHAMMAD SAAD\\AppData\\Local\\Programs\\Python\\Python310\\lib\\site-packages\\sklearn\\base.py:450: UserWarning: X does not have valid feature names, but DecisionTreeRegressor was fitted with feature names\n",
            "  warnings.warn(\n",
            "c:\\Users\\MUHAMMAD SAAD\\AppData\\Local\\Programs\\Python\\Python310\\lib\\site-packages\\sklearn\\base.py:450: UserWarning: X does not have valid feature names, but SVR was fitted with feature names\n",
            "  warnings.warn(\n",
            "c:\\Users\\MUHAMMAD SAAD\\AppData\\Local\\Programs\\Python\\Python310\\lib\\site-packages\\sklearn\\base.py:450: UserWarning: X does not have valid feature names, but GradientBoostingRegressor was fitted with feature names\n",
            "  warnings.warn(\n",
            "c:\\Users\\MUHAMMAD SAAD\\AppData\\Local\\Programs\\Python\\Python310\\lib\\site-packages\\sklearn\\base.py:450: UserWarning: X does not have valid feature names, but AdaBoostRegressor was fitted with feature names\n",
            "  warnings.warn(\n",
            "c:\\Users\\MUHAMMAD SAAD\\AppData\\Local\\Programs\\Python\\Python310\\lib\\site-packages\\sklearn\\base.py:450: UserWarning: X does not have valid feature names, but BaggingRegressor was fitted with feature names\n",
            "  warnings.warn(\n",
            "c:\\Users\\MUHAMMAD SAAD\\AppData\\Local\\Programs\\Python\\Python310\\lib\\site-packages\\sklearn\\base.py:450: UserWarning: X does not have valid feature names, but LinearRegression was fitted with feature names\n",
            "  warnings.warn(\n",
            "c:\\Users\\MUHAMMAD SAAD\\AppData\\Local\\Programs\\Python\\Python310\\lib\\site-packages\\sklearn\\base.py:450: UserWarning: X does not have valid feature names, but RandomForestRegressor was fitted with feature names\n",
            "  warnings.warn(\n",
            "c:\\Users\\MUHAMMAD SAAD\\AppData\\Local\\Programs\\Python\\Python310\\lib\\site-packages\\sklearn\\base.py:450: UserWarning: X does not have valid feature names, but DecisionTreeRegressor was fitted with feature names\n",
            "  warnings.warn(\n",
            "c:\\Users\\MUHAMMAD SAAD\\AppData\\Local\\Programs\\Python\\Python310\\lib\\site-packages\\sklearn\\base.py:450: UserWarning: X does not have valid feature names, but SVR was fitted with feature names\n",
            "  warnings.warn(\n",
            "c:\\Users\\MUHAMMAD SAAD\\AppData\\Local\\Programs\\Python\\Python310\\lib\\site-packages\\sklearn\\base.py:450: UserWarning: X does not have valid feature names, but GradientBoostingRegressor was fitted with feature names\n",
            "  warnings.warn(\n",
            "c:\\Users\\MUHAMMAD SAAD\\AppData\\Local\\Programs\\Python\\Python310\\lib\\site-packages\\sklearn\\base.py:450: UserWarning: X does not have valid feature names, but AdaBoostRegressor was fitted with feature names\n",
            "  warnings.warn(\n",
            "c:\\Users\\MUHAMMAD SAAD\\AppData\\Local\\Programs\\Python\\Python310\\lib\\site-packages\\sklearn\\base.py:450: UserWarning: X does not have valid feature names, but BaggingRegressor was fitted with feature names\n",
            "  warnings.warn(\n"
          ]
        },
        {
          "data": {
            "text/plain": [
              "array([[1394.54690166]])"
            ]
          },
          "execution_count": 59,
          "metadata": {},
          "output_type": "execute_result"
        }
      ],
      "source": [
        "a=DecisionTreeRegressor.predict([[9499.360521]])\n",
        "b=lasso.predict([[9499.360521]])\n",
        "c=regressor.predict([[9499.360521]])\n",
        "d=clf.predict([[9499.360521]])\n",
        "e=RandomForestRegressor.predict([[9499.360521]])\n",
        "f=gbr.predict([[9499.360521]])\n",
        "e=abr.predict([[9499.360521]])\n",
        "g=br.predict([[9499.360521]])\n",
        "h=voting_reg.predict([[9499.360521]])\n",
        "i=stacking_reg.predict([[9499.360521]])      \n",
        "\n",
        "f=(1*a+1*b+1*c+1*d+7*e)/11\n",
        "\n",
        "f"
      ]
    },
    {
      "cell_type": "code",
      "execution_count": 60,
      "metadata": {
        "colab": {
          "base_uri": "https://localhost:8080/"
        },
        "id": "wiL6IDT8QTxj",
        "outputId": "e62f10f6-71d7-4c0c-93c6-ac6bf7977779"
      },
      "outputs": [
        {
          "data": {
            "text/html": [
              "<div>\n",
              "<style scoped>\n",
              "    .dataframe tbody tr th:only-of-type {\n",
              "        vertical-align: middle;\n",
              "    }\n",
              "\n",
              "    .dataframe tbody tr th {\n",
              "        vertical-align: top;\n",
              "    }\n",
              "\n",
              "    .dataframe thead th {\n",
              "        text-align: right;\n",
              "    }\n",
              "</style>\n",
              "<table border=\"1\" class=\"dataframe\">\n",
              "  <thead>\n",
              "    <tr style=\"text-align: right;\">\n",
              "      <th></th>\n",
              "      <th>Close</th>\n",
              "      <th>fng_value</th>\n",
              "      <th>pred_close</th>\n",
              "      <th>Rsi</th>\n",
              "      <th>sma_20</th>\n",
              "      <th>upper_bb</th>\n",
              "      <th>lower_bb</th>\n",
              "      <th>Weighted_Average</th>\n",
              "    </tr>\n",
              "    <tr>\n",
              "      <th>Time</th>\n",
              "      <th></th>\n",
              "      <th></th>\n",
              "      <th></th>\n",
              "      <th></th>\n",
              "      <th></th>\n",
              "      <th></th>\n",
              "      <th></th>\n",
              "      <th></th>\n",
              "    </tr>\n",
              "  </thead>\n",
              "  <tbody>\n",
              "    <tr>\n",
              "      <th>2022-08-13</th>\n",
              "      <td>24441.38</td>\n",
              "      <td>54</td>\n",
              "      <td>1983.55</td>\n",
              "      <td>58.117063</td>\n",
              "      <td>1705.8640</td>\n",
              "      <td>1985.142654</td>\n",
              "      <td>1426.585346</td>\n",
              "      <td>10196.477005</td>\n",
              "    </tr>\n",
              "    <tr>\n",
              "      <th>2022-08-14</th>\n",
              "      <td>24305.24</td>\n",
              "      <td>44</td>\n",
              "      <td>1935.31</td>\n",
              "      <td>60.763458</td>\n",
              "      <td>1730.5900</td>\n",
              "      <td>1998.383098</td>\n",
              "      <td>1462.796902</td>\n",
              "      <td>10154.961804</td>\n",
              "    </tr>\n",
              "    <tr>\n",
              "      <th>2022-08-15</th>\n",
              "      <td>24094.82</td>\n",
              "      <td>30</td>\n",
              "      <td>1899.06</td>\n",
              "      <td>58.461305</td>\n",
              "      <td>1753.0870</td>\n",
              "      <td>1995.735505</td>\n",
              "      <td>1510.438495</td>\n",
              "      <td>10083.160254</td>\n",
              "    </tr>\n",
              "    <tr>\n",
              "      <th>2022-08-16</th>\n",
              "      <td>23854.74</td>\n",
              "      <td>36</td>\n",
              "      <td>1876.67</td>\n",
              "      <td>58.945578</td>\n",
              "      <td>1765.1335</td>\n",
              "      <td>2007.173943</td>\n",
              "      <td>1523.093057</td>\n",
              "      <td>9996.880506</td>\n",
              "    </tr>\n",
              "    <tr>\n",
              "      <th>2022-08-17</th>\n",
              "      <td>23342.66</td>\n",
              "      <td>8</td>\n",
              "      <td>1834.25</td>\n",
              "      <td>55.052570</td>\n",
              "      <td>1770.6200</td>\n",
              "      <td>2013.756344</td>\n",
              "      <td>1527.483656</td>\n",
              "      <td>9800.005582</td>\n",
              "    </tr>\n",
              "    <tr>\n",
              "      <th>2022-08-18</th>\n",
              "      <td>23191.20</td>\n",
              "      <td>11</td>\n",
              "      <td>1846.39</td>\n",
              "      <td>55.522683</td>\n",
              "      <td>1776.8555</td>\n",
              "      <td>2021.101247</td>\n",
              "      <td>1532.609753</td>\n",
              "      <td>9744.896591</td>\n",
              "    </tr>\n",
              "    <tr>\n",
              "      <th>2022-08-19</th>\n",
              "      <td>20834.39</td>\n",
              "      <td>24</td>\n",
              "      <td>1609.01</td>\n",
              "      <td>31.810728</td>\n",
              "      <td>1772.4560</td>\n",
              "      <td>2025.760072</td>\n",
              "      <td>1519.151928</td>\n",
              "      <td>8835.576671</td>\n",
              "    </tr>\n",
              "    <tr>\n",
              "      <th>2022-08-20</th>\n",
              "      <td>21140.07</td>\n",
              "      <td>40</td>\n",
              "      <td>1576.04</td>\n",
              "      <td>36.580336</td>\n",
              "      <td>1767.3520</td>\n",
              "      <td>2032.496638</td>\n",
              "      <td>1502.207362</td>\n",
              "      <td>8952.387872</td>\n",
              "    </tr>\n",
              "    <tr>\n",
              "      <th>2022-08-21</th>\n",
              "      <td>21515.61</td>\n",
              "      <td>15</td>\n",
              "      <td>1618.13</td>\n",
              "      <td>38.005270</td>\n",
              "      <td>1766.7445</td>\n",
              "      <td>2033.263608</td>\n",
              "      <td>1500.225392</td>\n",
              "      <td>9094.732482</td>\n",
              "    </tr>\n",
              "    <tr>\n",
              "      <th>2022-08-22</th>\n",
              "      <td>21426.14</td>\n",
              "      <td>30</td>\n",
              "      <td>1602.37</td>\n",
              "      <td>31.283917</td>\n",
              "      <td>1765.3175</td>\n",
              "      <td>2035.183472</td>\n",
              "      <td>1495.451528</td>\n",
              "      <td>9060.299147</td>\n",
              "    </tr>\n",
              "  </tbody>\n",
              "</table>\n",
              "</div>"
            ],
            "text/plain": [
              "               Close  fng_value  pred_close        Rsi     sma_20  \\\n",
              "Time                                                                \n",
              "2022-08-13  24441.38         54     1983.55  58.117063  1705.8640   \n",
              "2022-08-14  24305.24         44     1935.31  60.763458  1730.5900   \n",
              "2022-08-15  24094.82         30     1899.06  58.461305  1753.0870   \n",
              "2022-08-16  23854.74         36     1876.67  58.945578  1765.1335   \n",
              "2022-08-17  23342.66          8     1834.25  55.052570  1770.6200   \n",
              "2022-08-18  23191.20         11     1846.39  55.522683  1776.8555   \n",
              "2022-08-19  20834.39         24     1609.01  31.810728  1772.4560   \n",
              "2022-08-20  21140.07         40     1576.04  36.580336  1767.3520   \n",
              "2022-08-21  21515.61         15     1618.13  38.005270  1766.7445   \n",
              "2022-08-22  21426.14         30     1602.37  31.283917  1765.3175   \n",
              "\n",
              "               upper_bb     lower_bb  Weighted_Average  \n",
              "Time                                                    \n",
              "2022-08-13  1985.142654  1426.585346      10196.477005  \n",
              "2022-08-14  1998.383098  1462.796902      10154.961804  \n",
              "2022-08-15  1995.735505  1510.438495      10083.160254  \n",
              "2022-08-16  2007.173943  1523.093057       9996.880506  \n",
              "2022-08-17  2013.756344  1527.483656       9800.005582  \n",
              "2022-08-18  2021.101247  1532.609753       9744.896591  \n",
              "2022-08-19  2025.760072  1519.151928       8835.576671  \n",
              "2022-08-20  2032.496638  1502.207362       8952.387872  \n",
              "2022-08-21  2033.263608  1500.225392       9094.732482  \n",
              "2022-08-22  2035.183472  1495.451528       9060.299147  "
            ]
          },
          "execution_count": 60,
          "metadata": {},
          "output_type": "execute_result"
        }
      ],
      "source": [
        "df_btc.tail(10)"
      ]
    },
    {
      "cell_type": "code",
      "execution_count": null,
      "metadata": {
        "id": "OuEdZF2-WYF9"
      },
      "outputs": [],
      "source": []
    }
  ],
  "metadata": {
    "colab": {
      "collapsed_sections": [
        "vFf_i4NuzcFt",
        "X09B_Fl85TFB",
        "64pa2sf2IGV8",
        "26fj6eCtyNOu",
        "tJI38WYAyUK1"
      ],
      "name": "Copy of Model.ipynb",
      "provenance": []
    },
    "kernelspec": {
      "display_name": "Python 3.10.5 64-bit",
      "language": "python",
      "name": "python3"
    },
    "language_info": {
      "codemirror_mode": {
        "name": "ipython",
        "version": 3
      },
      "file_extension": ".py",
      "mimetype": "text/x-python",
      "name": "python",
      "nbconvert_exporter": "python",
      "pygments_lexer": "ipython3",
      "version": "3.10.5"
    },
    "vscode": {
      "interpreter": {
        "hash": "dfe716b84186168c9a35355d028ce21d8c28f03f0329c5ace5b39c942febc911"
      }
    }
  },
  "nbformat": 4,
  "nbformat_minor": 0
}
