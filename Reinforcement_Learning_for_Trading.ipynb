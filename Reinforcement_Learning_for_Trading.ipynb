{
  "nbformat": 4,
  "nbformat_minor": 0,
  "metadata": {
    "colab": {
      "name": "Copy of Reinforcement-Learning-for-Trading.ipynb",
      "provenance": [],
      "collapsed_sections": []
    },
    "kernelspec": {
      "name": "python3",
      "display_name": "Python 3"
    },
    "language_info": {
      "name": "python"
    }
  },
  "cells": [
    {
      "cell_type": "code",
      "source": [
        "apikey=\"OK8tMupr8C3vWNK6mlsEmyQPAx3UKD4qjDPwI442xIpSDtl3WJ2Yodf6nxVd3sXb\"\n",
        "secret=\"hgT8l2EdTSQf7aeH96J8VhupLRy1CJJ29Omldwsh5AIC1BVZc1HUiR3A7mraL2It\""
      ],
      "metadata": {
        "id": "bhvkFyRI5e4m"
      },
      "execution_count": 1,
      "outputs": []
    },
    {
      "cell_type": "code",
      "source": [
        "!pip install python-binance pandas mplfinance"
      ],
      "metadata": {
        "id": "p0ZVYNSC5h-n",
        "colab": {
          "base_uri": "https://localhost:8080/"
        },
        "outputId": "ee1fc6a0-2601-4f52-a5de-950b3d8e321e"
      },
      "execution_count": 2,
      "outputs": [
        {
          "output_type": "stream",
          "name": "stdout",
          "text": [
            "Looking in indexes: https://pypi.org/simple, https://us-python.pkg.dev/colab-wheels/public/simple/\n",
            "Collecting python-binance\n",
            "  Downloading python_binance-1.0.16-py2.py3-none-any.whl (65 kB)\n",
            "\u001b[K     |████████████████████████████████| 65 kB 2.3 MB/s \n",
            "\u001b[?25hRequirement already satisfied: pandas in /usr/local/lib/python3.7/dist-packages (1.3.5)\n",
            "Collecting mplfinance\n",
            "  Downloading mplfinance-0.12.9b1-py3-none-any.whl (70 kB)\n",
            "\u001b[K     |████████████████████████████████| 70 kB 8.0 MB/s \n",
            "\u001b[?25hCollecting websockets\n",
            "  Downloading websockets-10.3-cp37-cp37m-manylinux_2_5_x86_64.manylinux1_x86_64.manylinux_2_12_x86_64.manylinux2010_x86_64.whl (112 kB)\n",
            "\u001b[K     |████████████████████████████████| 112 kB 41.5 MB/s \n",
            "\u001b[?25hRequirement already satisfied: aiohttp in /usr/local/lib/python3.7/dist-packages (from python-binance) (3.8.1)\n",
            "Requirement already satisfied: ujson in /usr/local/lib/python3.7/dist-packages (from python-binance) (5.4.0)\n",
            "Collecting dateparser\n",
            "  Downloading dateparser-1.1.1-py2.py3-none-any.whl (288 kB)\n",
            "\u001b[K     |████████████████████████████████| 288 kB 36.9 MB/s \n",
            "\u001b[?25hRequirement already satisfied: six in /usr/local/lib/python3.7/dist-packages (from python-binance) (1.15.0)\n",
            "Requirement already satisfied: requests in /usr/local/lib/python3.7/dist-packages (from python-binance) (2.23.0)\n",
            "Requirement already satisfied: numpy>=1.17.3 in /usr/local/lib/python3.7/dist-packages (from pandas) (1.21.6)\n",
            "Requirement already satisfied: pytz>=2017.3 in /usr/local/lib/python3.7/dist-packages (from pandas) (2022.2.1)\n",
            "Requirement already satisfied: python-dateutil>=2.7.3 in /usr/local/lib/python3.7/dist-packages (from pandas) (2.8.2)\n",
            "Requirement already satisfied: matplotlib in /usr/local/lib/python3.7/dist-packages (from mplfinance) (3.2.2)\n",
            "Requirement already satisfied: attrs>=17.3.0 in /usr/local/lib/python3.7/dist-packages (from aiohttp->python-binance) (22.1.0)\n",
            "Requirement already satisfied: aiosignal>=1.1.2 in /usr/local/lib/python3.7/dist-packages (from aiohttp->python-binance) (1.2.0)\n",
            "Requirement already satisfied: typing-extensions>=3.7.4 in /usr/local/lib/python3.7/dist-packages (from aiohttp->python-binance) (4.1.1)\n",
            "Requirement already satisfied: async-timeout<5.0,>=4.0.0a3 in /usr/local/lib/python3.7/dist-packages (from aiohttp->python-binance) (4.0.2)\n",
            "Requirement already satisfied: frozenlist>=1.1.1 in /usr/local/lib/python3.7/dist-packages (from aiohttp->python-binance) (1.3.1)\n",
            "Requirement already satisfied: asynctest==0.13.0 in /usr/local/lib/python3.7/dist-packages (from aiohttp->python-binance) (0.13.0)\n",
            "Requirement already satisfied: charset-normalizer<3.0,>=2.0 in /usr/local/lib/python3.7/dist-packages (from aiohttp->python-binance) (2.1.0)\n",
            "Requirement already satisfied: yarl<2.0,>=1.0 in /usr/local/lib/python3.7/dist-packages (from aiohttp->python-binance) (1.8.1)\n",
            "Requirement already satisfied: multidict<7.0,>=4.5 in /usr/local/lib/python3.7/dist-packages (from aiohttp->python-binance) (6.0.2)\n",
            "Requirement already satisfied: idna>=2.0 in /usr/local/lib/python3.7/dist-packages (from yarl<2.0,>=1.0->aiohttp->python-binance) (2.10)\n",
            "Collecting regex!=2019.02.19,!=2021.8.27,<2022.3.15\n",
            "  Downloading regex-2022.3.2-cp37-cp37m-manylinux_2_17_x86_64.manylinux2014_x86_64.whl (749 kB)\n",
            "\u001b[K     |████████████████████████████████| 749 kB 31.4 MB/s \n",
            "\u001b[?25hRequirement already satisfied: tzlocal in /usr/local/lib/python3.7/dist-packages (from dateparser->python-binance) (1.5.1)\n",
            "Requirement already satisfied: kiwisolver>=1.0.1 in /usr/local/lib/python3.7/dist-packages (from matplotlib->mplfinance) (1.4.4)\n",
            "Requirement already satisfied: pyparsing!=2.0.4,!=2.1.2,!=2.1.6,>=2.0.1 in /usr/local/lib/python3.7/dist-packages (from matplotlib->mplfinance) (3.0.9)\n",
            "Requirement already satisfied: cycler>=0.10 in /usr/local/lib/python3.7/dist-packages (from matplotlib->mplfinance) (0.11.0)\n",
            "Requirement already satisfied: certifi>=2017.4.17 in /usr/local/lib/python3.7/dist-packages (from requests->python-binance) (2022.6.15)\n",
            "Requirement already satisfied: chardet<4,>=3.0.2 in /usr/local/lib/python3.7/dist-packages (from requests->python-binance) (3.0.4)\n",
            "Requirement already satisfied: urllib3!=1.25.0,!=1.25.1,<1.26,>=1.21.1 in /usr/local/lib/python3.7/dist-packages (from requests->python-binance) (1.24.3)\n",
            "Installing collected packages: regex, websockets, dateparser, python-binance, mplfinance\n",
            "  Attempting uninstall: regex\n",
            "    Found existing installation: regex 2022.6.2\n",
            "    Uninstalling regex-2022.6.2:\n",
            "      Successfully uninstalled regex-2022.6.2\n",
            "Successfully installed dateparser-1.1.1 mplfinance-0.12.9b1 python-binance-1.0.16 regex-2022.3.2 websockets-10.3\n"
          ]
        }
      ]
    },
    {
      "cell_type": "code",
      "source": [
        "!pip install gym==0.19.0"
      ],
      "metadata": {
        "colab": {
          "base_uri": "https://localhost:8080/"
        },
        "id": "4tDbrWEQvJGn",
        "outputId": "165da3b1-336a-48fb-9f2e-88a21bad2481"
      },
      "execution_count": 3,
      "outputs": [
        {
          "output_type": "stream",
          "name": "stdout",
          "text": [
            "Looking in indexes: https://pypi.org/simple, https://us-python.pkg.dev/colab-wheels/public/simple/\n",
            "Collecting gym==0.19.0\n",
            "  Downloading gym-0.19.0.tar.gz (1.6 MB)\n",
            "\u001b[K     |████████████████████████████████| 1.6 MB 4.4 MB/s \n",
            "\u001b[?25hRequirement already satisfied: numpy>=1.18.0 in /usr/local/lib/python3.7/dist-packages (from gym==0.19.0) (1.21.6)\n",
            "Requirement already satisfied: cloudpickle<1.7.0,>=1.2.0 in /usr/local/lib/python3.7/dist-packages (from gym==0.19.0) (1.5.0)\n",
            "Building wheels for collected packages: gym\n",
            "  Building wheel for gym (setup.py) ... \u001b[?25l\u001b[?25hdone\n",
            "  Created wheel for gym: filename=gym-0.19.0-py3-none-any.whl size=1663115 sha256=401b6f0265a6c970fbe5ec8dc1fd14d8ddb028cfff23e708b734b52680204b5f\n",
            "  Stored in directory: /root/.cache/pip/wheels/ef/9d/70/8bea53f7edec2fdb4f98d9d64ac9f11aea95dfcb98099d7712\n",
            "Successfully built gym\n",
            "Installing collected packages: gym\n",
            "  Attempting uninstall: gym\n",
            "    Found existing installation: gym 0.25.1\n",
            "    Uninstalling gym-0.25.1:\n",
            "      Successfully uninstalled gym-0.25.1\n",
            "Successfully installed gym-0.19.0\n"
          ]
        }
      ]
    },
    {
      "cell_type": "code",
      "source": [
        "!pip install tensorflow-gpu==1.15.0 tensorflow==1.15.0 stable-baselines gym-anytrading "
      ],
      "metadata": {
        "colab": {
          "base_uri": "https://localhost:8080/"
        },
        "id": "zE58g-fl6XTc",
        "outputId": "55a13c9b-d9ae-48f7-e881-c5dc2068d0e9"
      },
      "execution_count": 4,
      "outputs": [
        {
          "output_type": "stream",
          "name": "stdout",
          "text": [
            "Looking in indexes: https://pypi.org/simple, https://us-python.pkg.dev/colab-wheels/public/simple/\n",
            "Collecting tensorflow-gpu==1.15.0\n",
            "  Downloading tensorflow_gpu-1.15.0-cp37-cp37m-manylinux2010_x86_64.whl (411.5 MB)\n",
            "\u001b[K     |████████████████████████████████| 411.5 MB 7.6 kB/s \n",
            "\u001b[?25hCollecting tensorflow==1.15.0\n",
            "  Downloading tensorflow-1.15.0-cp37-cp37m-manylinux2010_x86_64.whl (412.3 MB)\n",
            "\u001b[K     |████████████████████████████████| 412.3 MB 27 kB/s \n",
            "\u001b[?25hCollecting stable-baselines\n",
            "  Downloading stable_baselines-2.10.2-py3-none-any.whl (240 kB)\n",
            "\u001b[K     |████████████████████████████████| 240 kB 45.4 MB/s \n",
            "\u001b[?25hCollecting gym-anytrading\n",
            "  Downloading gym_anytrading-1.3.1-py3-none-any.whl (171 kB)\n",
            "\u001b[K     |████████████████████████████████| 171 kB 19.0 MB/s \n",
            "\u001b[?25hRequirement already satisfied: keras-preprocessing>=1.0.5 in /usr/local/lib/python3.7/dist-packages (from tensorflow-gpu==1.15.0) (1.1.2)\n",
            "Requirement already satisfied: opt-einsum>=2.3.2 in /usr/local/lib/python3.7/dist-packages (from tensorflow-gpu==1.15.0) (3.3.0)\n",
            "Requirement already satisfied: astor>=0.6.0 in /usr/local/lib/python3.7/dist-packages (from tensorflow-gpu==1.15.0) (0.8.1)\n",
            "Collecting keras-applications>=1.0.8\n",
            "  Downloading Keras_Applications-1.0.8-py3-none-any.whl (50 kB)\n",
            "\u001b[K     |████████████████████████████████| 50 kB 6.3 MB/s \n",
            "\u001b[?25hRequirement already satisfied: numpy<2.0,>=1.16.0 in /usr/local/lib/python3.7/dist-packages (from tensorflow-gpu==1.15.0) (1.21.6)\n",
            "Requirement already satisfied: google-pasta>=0.1.6 in /usr/local/lib/python3.7/dist-packages (from tensorflow-gpu==1.15.0) (0.2.0)\n",
            "Collecting gast==0.2.2\n",
            "  Downloading gast-0.2.2.tar.gz (10 kB)\n",
            "Requirement already satisfied: protobuf>=3.6.1 in /usr/local/lib/python3.7/dist-packages (from tensorflow-gpu==1.15.0) (3.17.3)\n",
            "Requirement already satisfied: wrapt>=1.11.1 in /usr/local/lib/python3.7/dist-packages (from tensorflow-gpu==1.15.0) (1.14.1)\n",
            "Collecting tensorflow-estimator==1.15.1\n",
            "  Downloading tensorflow_estimator-1.15.1-py2.py3-none-any.whl (503 kB)\n",
            "\u001b[K     |████████████████████████████████| 503 kB 48.0 MB/s \n",
            "\u001b[?25hRequirement already satisfied: termcolor>=1.1.0 in /usr/local/lib/python3.7/dist-packages (from tensorflow-gpu==1.15.0) (1.1.0)\n",
            "Requirement already satisfied: grpcio>=1.8.6 in /usr/local/lib/python3.7/dist-packages (from tensorflow-gpu==1.15.0) (1.47.0)\n",
            "Collecting tensorboard<1.16.0,>=1.15.0\n",
            "  Downloading tensorboard-1.15.0-py3-none-any.whl (3.8 MB)\n",
            "\u001b[K     |████████████████████████████████| 3.8 MB 33.5 MB/s \n",
            "\u001b[?25hRequirement already satisfied: absl-py>=0.7.0 in /usr/local/lib/python3.7/dist-packages (from tensorflow-gpu==1.15.0) (1.2.0)\n",
            "Requirement already satisfied: wheel>=0.26 in /usr/local/lib/python3.7/dist-packages (from tensorflow-gpu==1.15.0) (0.37.1)\n",
            "Requirement already satisfied: six>=1.10.0 in /usr/local/lib/python3.7/dist-packages (from tensorflow-gpu==1.15.0) (1.15.0)\n",
            "Requirement already satisfied: h5py in /usr/local/lib/python3.7/dist-packages (from keras-applications>=1.0.8->tensorflow-gpu==1.15.0) (3.1.0)\n",
            "Requirement already satisfied: markdown>=2.6.8 in /usr/local/lib/python3.7/dist-packages (from tensorboard<1.16.0,>=1.15.0->tensorflow-gpu==1.15.0) (3.4.1)\n",
            "Requirement already satisfied: setuptools>=41.0.0 in /usr/local/lib/python3.7/dist-packages (from tensorboard<1.16.0,>=1.15.0->tensorflow-gpu==1.15.0) (57.4.0)\n",
            "Requirement already satisfied: werkzeug>=0.11.15 in /usr/local/lib/python3.7/dist-packages (from tensorboard<1.16.0,>=1.15.0->tensorflow-gpu==1.15.0) (1.0.1)\n",
            "Requirement already satisfied: importlib-metadata>=4.4 in /usr/local/lib/python3.7/dist-packages (from markdown>=2.6.8->tensorboard<1.16.0,>=1.15.0->tensorflow-gpu==1.15.0) (4.12.0)\n",
            "Requirement already satisfied: typing-extensions>=3.6.4 in /usr/local/lib/python3.7/dist-packages (from importlib-metadata>=4.4->markdown>=2.6.8->tensorboard<1.16.0,>=1.15.0->tensorflow-gpu==1.15.0) (4.1.1)\n",
            "Requirement already satisfied: zipp>=0.5 in /usr/local/lib/python3.7/dist-packages (from importlib-metadata>=4.4->markdown>=2.6.8->tensorboard<1.16.0,>=1.15.0->tensorflow-gpu==1.15.0) (3.8.1)\n",
            "Requirement already satisfied: pandas in /usr/local/lib/python3.7/dist-packages (from stable-baselines) (1.3.5)\n",
            "Requirement already satisfied: scipy in /usr/local/lib/python3.7/dist-packages (from stable-baselines) (1.7.3)\n",
            "Requirement already satisfied: opencv-python in /usr/local/lib/python3.7/dist-packages (from stable-baselines) (4.6.0.66)\n",
            "Requirement already satisfied: joblib in /usr/local/lib/python3.7/dist-packages (from stable-baselines) (1.1.0)\n",
            "Requirement already satisfied: matplotlib in /usr/local/lib/python3.7/dist-packages (from stable-baselines) (3.2.2)\n",
            "Requirement already satisfied: cloudpickle>=0.5.5 in /usr/local/lib/python3.7/dist-packages (from stable-baselines) (1.5.0)\n",
            "Requirement already satisfied: gym[atari,classic_control]>=0.11 in /usr/local/lib/python3.7/dist-packages (from stable-baselines) (0.19.0)\n",
            "Collecting pyglet>=1.4.0\n",
            "  Downloading pyglet-1.5.26-py3-none-any.whl (1.1 MB)\n",
            "\u001b[K     |████████████████████████████████| 1.1 MB 35.6 MB/s \n",
            "\u001b[?25hCollecting atari-py==0.2.6\n",
            "  Downloading atari_py-0.2.6-cp37-cp37m-manylinux1_x86_64.whl (2.8 MB)\n",
            "\u001b[K     |████████████████████████████████| 2.8 MB 35.0 MB/s \n",
            "\u001b[?25hRequirement already satisfied: cycler>=0.10 in /usr/local/lib/python3.7/dist-packages (from matplotlib->stable-baselines) (0.11.0)\n",
            "Requirement already satisfied: kiwisolver>=1.0.1 in /usr/local/lib/python3.7/dist-packages (from matplotlib->stable-baselines) (1.4.4)\n",
            "Requirement already satisfied: python-dateutil>=2.1 in /usr/local/lib/python3.7/dist-packages (from matplotlib->stable-baselines) (2.8.2)\n",
            "Requirement already satisfied: pyparsing!=2.0.4,!=2.1.2,!=2.1.6,>=2.0.1 in /usr/local/lib/python3.7/dist-packages (from matplotlib->stable-baselines) (3.0.9)\n",
            "Requirement already satisfied: pytz>=2017.3 in /usr/local/lib/python3.7/dist-packages (from pandas->stable-baselines) (2022.2.1)\n",
            "Requirement already satisfied: cached-property in /usr/local/lib/python3.7/dist-packages (from h5py->keras-applications>=1.0.8->tensorflow-gpu==1.15.0) (1.5.2)\n",
            "\u001b[33mWARNING: The candidate selected for download or install is a yanked version: 'atari-py' candidate (version 0.2.6 at https://files.pythonhosted.org/packages/8f/ba/1d22e9d2f332f07aaa57041f5dd569c2cb40a92bd6374a0b743ec3dfae97/atari_py-0.2.6-cp37-cp37m-manylinux1_x86_64.whl#sha256=d9e2c25d39783867c2f29d1dd9d3a659fc56036456d07dc9efe8bd7bb31a07d7 (from https://pypi.org/simple/atari-py/))\n",
            "Reason for being yanked: re-release with new wheels\u001b[0m\n",
            "Building wheels for collected packages: gast\n",
            "  Building wheel for gast (setup.py) ... \u001b[?25l\u001b[?25hdone\n",
            "  Created wheel for gast: filename=gast-0.2.2-py3-none-any.whl size=7554 sha256=eddd285e4458f93cdf708b1f00bdab2758f12801a51591280e08fc97db2ff731\n",
            "  Stored in directory: /root/.cache/pip/wheels/21/7f/02/420f32a803f7d0967b48dd823da3f558c5166991bfd204eef3\n",
            "Successfully built gast\n",
            "Installing collected packages: pyglet, atari-py, tensorflow-estimator, tensorboard, keras-applications, gast, tensorflow-gpu, tensorflow, stable-baselines, gym-anytrading\n",
            "  Attempting uninstall: atari-py\n",
            "    Found existing installation: atari-py 0.2.9\n",
            "    Uninstalling atari-py-0.2.9:\n",
            "      Successfully uninstalled atari-py-0.2.9\n",
            "  Attempting uninstall: tensorflow-estimator\n",
            "    Found existing installation: tensorflow-estimator 2.8.0\n",
            "    Uninstalling tensorflow-estimator-2.8.0:\n",
            "      Successfully uninstalled tensorflow-estimator-2.8.0\n",
            "  Attempting uninstall: tensorboard\n",
            "    Found existing installation: tensorboard 2.8.0\n",
            "    Uninstalling tensorboard-2.8.0:\n",
            "      Successfully uninstalled tensorboard-2.8.0\n",
            "  Attempting uninstall: gast\n",
            "    Found existing installation: gast 0.5.3\n",
            "    Uninstalling gast-0.5.3:\n",
            "      Successfully uninstalled gast-0.5.3\n",
            "  Attempting uninstall: tensorflow\n",
            "    Found existing installation: tensorflow 2.8.2+zzzcolab20220719082949\n",
            "    Uninstalling tensorflow-2.8.2+zzzcolab20220719082949:\n",
            "      Successfully uninstalled tensorflow-2.8.2+zzzcolab20220719082949\n",
            "\u001b[31mERROR: pip's dependency resolver does not currently take into account all the packages that are installed. This behaviour is the source of the following dependency conflicts.\n",
            "tensorflow-probability 0.16.0 requires gast>=0.3.2, but you have gast 0.2.2 which is incompatible.\n",
            "kapre 0.3.7 requires tensorflow>=2.0.0, but you have tensorflow 1.15.0 which is incompatible.\u001b[0m\n",
            "Successfully installed atari-py-0.2.6 gast-0.2.2 gym-anytrading-1.3.1 keras-applications-1.0.8 pyglet-1.5.26 stable-baselines-2.10.2 tensorboard-1.15.0 tensorflow-1.15.0 tensorflow-estimator-1.15.1 tensorflow-gpu-1.15.0\n"
          ]
        }
      ]
    },
    {
      "cell_type": "code",
      "source": [
        "# Gym stuff\n",
        "import gym\n",
        "import gym_anytrading\n",
        "\n",
        "# Stable baselines - rl stuff\n",
        "from stable_baselines.common.vec_env import DummyVecEnv\n",
        "from stable_baselines import A2C\n",
        "\n",
        "# Processing libraries\n",
        "import numpy as np\n",
        "import pandas as pd\n",
        "from matplotlib import pyplot as plt"
      ],
      "metadata": {
        "colab": {
          "base_uri": "https://localhost:8080/"
        },
        "id": "k8QBh3z36bmO",
        "outputId": "477e1354-fb45-4140-d946-e377524c7503"
      },
      "execution_count": 5,
      "outputs": [
        {
          "output_type": "stream",
          "name": "stderr",
          "text": [
            "WARNING:tensorflow:\n",
            "The TensorFlow contrib module will not be included in TensorFlow 2.0.\n",
            "For more information, please see:\n",
            "  * https://github.com/tensorflow/community/blob/master/rfcs/20180907-contrib-sunset.md\n",
            "  * https://github.com/tensorflow/addons\n",
            "  * https://github.com/tensorflow/io (for I/O related ops)\n",
            "If you depend on functionality not listed there, please file an issue.\n",
            "\n",
            "/usr/local/lib/python3.7/dist-packages/stable_baselines/__init__.py:33: UserWarning: stable-baselines is in maintenance mode, please use [Stable-Baselines3 (SB3)](https://github.com/DLR-RM/stable-baselines3) for an up-to-date version. You can find a [migration guide](https://stable-baselines3.readthedocs.io/en/master/guide/migration.html) in SB3 documentation.\n",
            "  \"stable-baselines is in maintenance mode, please use [Stable-Baselines3 (SB3)](https://github.com/DLR-RM/stable-baselines3) for an up-to-date version. You can find a [migration guide](https://stable-baselines3.readthedocs.io/en/master/guide/migration.html) in SB3 documentation.\"\n"
          ]
        }
      ]
    },
    {
      "cell_type": "code",
      "source": [
        "from binance import Client, ThreadedWebsocketManager,ThreadedDepthCacheManager\n",
        "import pandas as pd\n",
        "import numpy as np"
      ],
      "metadata": {
        "id": "UgntNJhX51Y2"
      },
      "execution_count": 6,
      "outputs": []
    },
    {
      "cell_type": "code",
      "source": [
        "client = Client(apikey,secret)"
      ],
      "metadata": {
        "id": "X1JUvFaH6GaK"
      },
      "execution_count": 7,
      "outputs": []
    },
    {
      "cell_type": "code",
      "source": [
        "def getdailydata(symbol):\n",
        "    frame = pd.DataFrame(client.get_historical_klines(symbol,'1d','1585 days ago UTC'))\n",
        "    if len(frame) > 0:\n",
        "        frame = frame.iloc[:,:6]\n",
        "        frame.columns = ['Time','Open','High','Low','Close','Volume']\n",
        "        frame = frame.set_index('Time')\n",
        "        frame.index = pd.to_datetime(frame.index,unit='ms')\n",
        "        frame = frame.astype(float)\n",
        "        return frame"
      ],
      "metadata": {
        "id": "V3IyxoO26H1R"
      },
      "execution_count": 8,
      "outputs": []
    },
    {
      "cell_type": "code",
      "source": [
        "btc=getdailydata('BTCUSDT')"
      ],
      "metadata": {
        "id": "NQwMGGWy6JcW"
      },
      "execution_count": 9,
      "outputs": []
    },
    {
      "cell_type": "code",
      "source": [
        "env = gym.make('stocks-v0', df=btc, frame_bound=(5,100), window_size=5)"
      ],
      "metadata": {
        "id": "Skw_l2YB63ch"
      },
      "execution_count": 10,
      "outputs": []
    },
    {
      "cell_type": "code",
      "source": [
        "env.signal_features"
      ],
      "metadata": {
        "colab": {
          "base_uri": "https://localhost:8080/"
        },
        "id": "pn03-aRN7GB0",
        "outputId": "c211ba94-08dc-4eb1-b596-c8f4b99f0977"
      },
      "execution_count": 11,
      "outputs": [
        {
          "output_type": "execute_result",
          "data": {
            "text/plain": [
              "array([[ 8.85698e+03,  0.00000e+00],\n",
              "       [ 8.91531e+03,  5.83300e+01],\n",
              "       [ 8.78702e+03, -1.28290e+02],\n",
              "       [ 8.93401e+03,  1.46990e+02],\n",
              "       [ 9.61999e+03,  6.85980e+02],\n",
              "       [ 8.86999e+03, -7.50000e+02],\n",
              "       [ 9.26600e+03,  3.96010e+02],\n",
              "       [ 8.91535e+03, -3.50650e+02],\n",
              "       [ 9.34800e+03,  4.32650e+02],\n",
              "       [ 9.41900e+03,  7.10000e+01],\n",
              "       [ 9.24601e+03, -1.72990e+02],\n",
              "       [ 9.07148e+03, -1.74530e+02],\n",
              "       [ 9.24784e+03,  1.76360e+02],\n",
              "       [ 9.75000e+03,  5.02160e+02],\n",
              "       [ 9.71399e+03, -3.60100e+01],\n",
              "       [ 9.86400e+03,  1.50010e+02],\n",
              "       [ 9.65901e+03, -2.04990e+02],\n",
              "       [ 9.36500e+03, -2.94010e+02],\n",
              "       [ 9.18756e+03, -1.77440e+02],\n",
              "       [ 9.31000e+03,  1.22440e+02],\n",
              "       [ 9.00220e+03, -3.07800e+02],\n",
              "       [ 8.40000e+03, -6.02200e+02],\n",
              "       [ 8.46594e+03,  6.59400e+01],\n",
              "       [ 8.67971e+03,  2.13770e+02],\n",
              "       [ 8.66334e+03, -1.63700e+01],\n",
              "       [ 8.46200e+03, -2.01340e+02],\n",
              "       [ 8.33000e+03, -1.32000e+02],\n",
              "       [ 8.04146e+03, -2.88540e+02],\n",
              "       [ 8.23981e+03,  1.98350e+02],\n",
              "       [ 8.23349e+03, -6.32000e+00],\n",
              "       [ 8.52698e+03,  2.93490e+02],\n",
              "       [ 8.38124e+03, -1.45740e+02],\n",
              "       [ 7.97711e+03, -4.04130e+02],\n",
              "       [ 7.50195e+03, -4.75160e+02],\n",
              "       [ 7.57501e+03,  7.30600e+01],\n",
              "       [ 7.45700e+03, -1.18010e+02],\n",
              "       [ 7.33396e+03, -1.23040e+02],\n",
              "       [ 7.33899e+03,  5.03000e+00],\n",
              "       [ 7.09900e+03, -2.39990e+02],\n",
              "       [ 7.46129e+03,  3.62290e+02],\n",
              "       [ 7.37596e+03, -8.53300e+01],\n",
              "       [ 7.48501e+03,  1.09050e+02],\n",
              "       [ 7.52101e+03,  3.60000e+01],\n",
              "       [ 7.64003e+03,  1.19020e+02],\n",
              "       [ 7.71426e+03,  7.42300e+01],\n",
              "       [ 7.48700e+03, -2.27260e+02],\n",
              "       [ 7.62500e+03,  1.38000e+02],\n",
              "       [ 7.65884e+03,  3.38400e+01],\n",
              "       [ 7.69108e+03,  3.22400e+01],\n",
              "       [ 7.60344e+03, -8.76400e+01],\n",
              "       [ 7.49173e+03, -1.11710e+02],\n",
              "       [ 6.76499e+03, -7.26740e+02],\n",
              "       [ 6.87200e+03,  1.07010e+02],\n",
              "       [ 6.53000e+03, -3.42000e+02],\n",
              "       [ 6.29278e+03, -2.37220e+02],\n",
              "       [ 6.63598e+03,  3.43200e+02],\n",
              "       [ 6.38890e+03, -2.47080e+02],\n",
              "       [ 6.48398e+03,  9.50800e+01],\n",
              "       [ 6.44961e+03, -3.43700e+01],\n",
              "       [ 6.71246e+03,  2.62850e+02],\n",
              "       [ 6.74121e+03,  2.87500e+01],\n",
              "       [ 6.76151e+03,  2.03000e+01],\n",
              "       [ 6.71884e+03, -4.26700e+01],\n",
              "       [ 6.04500e+03, -6.73840e+02],\n",
              "       [ 6.14998e+03,  1.04980e+02],\n",
              "       [ 6.13697e+03, -1.30100e+01],\n",
              "       [ 6.25200e+03,  1.15030e+02],\n",
              "       [ 6.07078e+03, -1.81220e+02],\n",
              "       [ 6.13373e+03,  6.29500e+01],\n",
              "       [ 5.85398e+03, -2.79750e+02],\n",
              "       [ 6.19792e+03,  3.43940e+02],\n",
              "       [ 6.39007e+03,  1.92150e+02],\n",
              "       [ 6.35681e+03, -3.32600e+01],\n",
              "       [ 6.61529e+03,  2.58480e+02],\n",
              "       [ 6.51386e+03, -1.01430e+02],\n",
              "       [ 6.58698e+03,  7.31200e+01],\n",
              "       [ 6.52920e+03, -5.77800e+01],\n",
              "       [ 6.60978e+03,  8.05800e+01],\n",
              "       [ 6.75698e+03,  1.47200e+02],\n",
              "       [ 6.71210e+03, -4.48800e+01],\n",
              "       [ 6.66212e+03, -4.99800e+01],\n",
              "       [ 6.29691e+03, -3.65210e+02],\n",
              "       [ 6.37807e+03,  8.11600e+01],\n",
              "       [ 6.25057e+03, -1.27500e+02],\n",
              "       [ 6.21457e+03, -3.60000e+01],\n",
              "       [ 6.25199e+03,  3.74200e+01],\n",
              "       [ 6.35301e+03,  1.01020e+02],\n",
              "       [ 6.72335e+03,  3.70340e+02],\n",
              "       [ 7.31744e+03,  5.94090e+02],\n",
              "       [ 7.38190e+03,  6.44600e+01],\n",
              "       [ 7.46621e+03,  8.43100e+01],\n",
              "       [ 7.33753e+03, -1.28680e+02],\n",
              "       [ 7.39878e+03,  6.12500e+01],\n",
              "       [ 7.39479e+03, -3.99000e+00],\n",
              "       [ 7.72101e+03,  3.26220e+02],\n",
              "       [ 8.39724e+03,  6.76230e+02],\n",
              "       [ 8.17564e+03, -2.21600e+02],\n",
              "       [ 7.92000e+03, -2.55640e+02],\n",
              "       [ 8.18857e+03,  2.68570e+02],\n",
              "       [ 8.22504e+03,  3.64700e+01]])"
            ]
          },
          "metadata": {},
          "execution_count": 11
        }
      ]
    },
    {
      "cell_type": "code",
      "source": [
        "env.action_space"
      ],
      "metadata": {
        "colab": {
          "base_uri": "https://localhost:8080/"
        },
        "id": "dytasM597Mx7",
        "outputId": "d0b4d5d2-e2cf-453f-8022-f2d9f451f061"
      },
      "execution_count": 12,
      "outputs": [
        {
          "output_type": "execute_result",
          "data": {
            "text/plain": [
              "Discrete(2)"
            ]
          },
          "metadata": {},
          "execution_count": 12
        }
      ]
    },
    {
      "cell_type": "code",
      "source": [
        "\n",
        "state = env.reset()\n",
        "while True: \n",
        "    action = env.action_space.sample()\n",
        "    n_state, reward, done, info = env.step(action)\n",
        "    if done: \n",
        "        print(\"info\", info)\n",
        "        break\n",
        "        \n",
        "plt.figure(figsize=(15,6))\n",
        "plt.cla()\n",
        "env.render_all()\n",
        "plt.show()"
      ],
      "metadata": {
        "colab": {
          "base_uri": "https://localhost:8080/",
          "height": 435
        },
        "id": "13Crl3PZ7Knj",
        "outputId": "dcd1afdb-993f-4be8-ee2f-8dc317cff720"
      },
      "execution_count": 17,
      "outputs": [
        {
          "output_type": "stream",
          "name": "stdout",
          "text": [
            "info {'total_reward': -932.1799999999976, 'total_profit': 0.5223913514691881, 'position': 0}\n"
          ]
        },
        {
          "output_type": "display_data",
          "data": {
            "text/plain": [
              "<Figure size 1080x432 with 1 Axes>"
            ],
            "image/png": "[encoded data removed]"
          },
          "metadata": {
            "needs_background": "light"
          }
        }
      ]
    },
    {
      "cell_type": "code",
      "source": [
        "env_maker = lambda: gym.make('stocks-v0', df=btc, frame_bound=(5,100), window_size=5)\n",
        "env = DummyVecEnv([env_maker])\n",
        "model = A2C('MlpLstmPolicy', env, verbose=1) \n",
        "model.learn(total_timesteps=10000)"
      ],
      "metadata": {
        "colab": {
          "base_uri": "https://localhost:8080/"
        },
        "id": "la81DPpf7bTI",
        "outputId": "0f2e4881-0d80-484e-ca5e-2ef346f04274"
      },
      "execution_count": 21,
      "outputs": [
        {
          "output_type": "stream",
          "name": "stdout",
          "text": [
            "---------------------------------\n",
            "| explained_variance | -45      |\n",
            "| fps                | 16       |\n",
            "| nupdates           | 1        |\n",
            "| policy_entropy     | 0.693    |\n",
            "| total_timesteps    | 5        |\n",
            "| value_loss         | 0.000213 |\n",
            "---------------------------------\n",
            "---------------------------------\n",
            "| explained_variance | 4.55e-05 |\n",
            "| fps                | 295      |\n",
            "| nupdates           | 100      |\n",
            "| policy_entropy     | 0.693    |\n",
            "| total_timesteps    | 500      |\n",
            "| value_loss         | 4.59e+04 |\n",
            "---------------------------------\n",
            "---------------------------------\n",
            "| explained_variance | -0.00313 |\n",
            "| fps                | 317      |\n",
            "| nupdates           | 200      |\n",
            "| policy_entropy     | 0.692    |\n",
            "| total_timesteps    | 1000     |\n",
            "| value_loss         | 16.3     |\n",
            "---------------------------------\n",
            "----------------------------------\n",
            "| explained_variance | -9.58e-05 |\n",
            "| fps                | 330       |\n",
            "| nupdates           | 300       |\n",
            "| policy_entropy     | 0.692     |\n",
            "| total_timesteps    | 1500      |\n",
            "| value_loss         | 8.06e+04  |\n",
            "----------------------------------\n",
            "----------------------------------\n",
            "| explained_variance | -7.14e-05 |\n",
            "| fps                | 338       |\n",
            "| nupdates           | 400       |\n",
            "| policy_entropy     | 0.692     |\n",
            "| total_timesteps    | 2000      |\n",
            "| value_loss         | 6.4e+04   |\n",
            "----------------------------------\n",
            "----------------------------------\n",
            "| explained_variance | -0.000179 |\n",
            "| fps                | 343       |\n",
            "| nupdates           | 500       |\n",
            "| policy_entropy     | 0.691     |\n",
            "| total_timesteps    | 2500      |\n",
            "| value_loss         | 4.62e+03  |\n",
            "----------------------------------\n",
            "---------------------------------\n",
            "| explained_variance | 5.73e-05 |\n",
            "| fps                | 346      |\n",
            "| nupdates           | 600      |\n",
            "| policy_entropy     | 0.69     |\n",
            "| total_timesteps    | 3000     |\n",
            "| value_loss         | 3.49e+05 |\n",
            "---------------------------------\n",
            "----------------------------------\n",
            "| explained_variance | -0.000967 |\n",
            "| fps                | 349       |\n",
            "| nupdates           | 700       |\n",
            "| policy_entropy     | 0.663     |\n",
            "| total_timesteps    | 3500      |\n",
            "| value_loss         | 8e+04     |\n",
            "----------------------------------\n",
            "----------------------------------\n",
            "| explained_variance | -0.000174 |\n",
            "| fps                | 351       |\n",
            "| nupdates           | 800       |\n",
            "| policy_entropy     | 0.641     |\n",
            "| total_timesteps    | 4000      |\n",
            "| value_loss         | 6.61e+03  |\n",
            "----------------------------------\n",
            "---------------------------------\n",
            "| explained_variance | 0.000378 |\n",
            "| fps                | 353      |\n",
            "| nupdates           | 900      |\n",
            "| policy_entropy     | 0.655    |\n",
            "| total_timesteps    | 4500     |\n",
            "| value_loss         | 513      |\n",
            "---------------------------------\n",
            "----------------------------------\n",
            "| explained_variance | -6.56e-05 |\n",
            "| fps                | 355       |\n",
            "| nupdates           | 1000      |\n",
            "| policy_entropy     | 0.652     |\n",
            "| total_timesteps    | 5000      |\n",
            "| value_loss         | 2.13e+05  |\n",
            "----------------------------------\n",
            "---------------------------------\n",
            "| explained_variance | 5.92e-05 |\n",
            "| fps                | 356      |\n",
            "| nupdates           | 1100     |\n",
            "| policy_entropy     | 0.625    |\n",
            "| total_timesteps    | 5500     |\n",
            "| value_loss         | 5.21e+05 |\n",
            "---------------------------------\n",
            "---------------------------------\n",
            "| explained_variance | -50.5    |\n",
            "| fps                | 358      |\n",
            "| nupdates           | 1200     |\n",
            "| policy_entropy     | 0.345    |\n",
            "| total_timesteps    | 6000     |\n",
            "| value_loss         | 0.000217 |\n",
            "---------------------------------\n",
            "---------------------------------\n",
            "| explained_variance | 0.688    |\n",
            "| fps                | 359      |\n",
            "| nupdates           | 1300     |\n",
            "| policy_entropy     | 0.169    |\n",
            "| total_timesteps    | 6500     |\n",
            "| value_loss         | 0.00126  |\n",
            "---------------------------------\n",
            "---------------------------------\n",
            "| explained_variance | -30      |\n",
            "| fps                | 360      |\n",
            "| nupdates           | 1400     |\n",
            "| policy_entropy     | 0.0984   |\n",
            "| total_timesteps    | 7000     |\n",
            "| value_loss         | 0.00027  |\n",
            "---------------------------------\n",
            "----------------------------------\n",
            "| explained_variance | -1.56e+03 |\n",
            "| fps                | 362       |\n",
            "| nupdates           | 1500      |\n",
            "| policy_entropy     | 0.0611    |\n",
            "| total_timesteps    | 7500      |\n",
            "| value_loss         | 0.000202  |\n",
            "----------------------------------\n",
            "---------------------------------\n",
            "| explained_variance | -753     |\n",
            "| fps                | 362      |\n",
            "| nupdates           | 1600     |\n",
            "| policy_entropy     | 0.0809   |\n",
            "| total_timesteps    | 8000     |\n",
            "| value_loss         | 0.000264 |\n",
            "---------------------------------\n",
            "---------------------------------\n",
            "| explained_variance | -180     |\n",
            "| fps                | 363      |\n",
            "| nupdates           | 1700     |\n",
            "| policy_entropy     | 0.123    |\n",
            "| total_timesteps    | 8500     |\n",
            "| value_loss         | 0.00202  |\n",
            "---------------------------------\n",
            "---------------------------------\n",
            "| explained_variance | -81.1    |\n",
            "| fps                | 364      |\n",
            "| nupdates           | 1800     |\n",
            "| policy_entropy     | 0.413    |\n",
            "| total_timesteps    | 9000     |\n",
            "| value_loss         | 0.00025  |\n",
            "---------------------------------\n",
            "---------------------------------\n",
            "| explained_variance | -12.4    |\n",
            "| fps                | 365      |\n",
            "| nupdates           | 1900     |\n",
            "| policy_entropy     | 0.501    |\n",
            "| total_timesteps    | 9500     |\n",
            "| value_loss         | 0.000751 |\n",
            "---------------------------------\n",
            "---------------------------------\n",
            "| explained_variance | -0.437   |\n",
            "| fps                | 365      |\n",
            "| nupdates           | 2000     |\n",
            "| policy_entropy     | 0.175    |\n",
            "| total_timesteps    | 10000    |\n",
            "| value_loss         | 0.000788 |\n",
            "---------------------------------\n"
          ]
        },
        {
          "output_type": "execute_result",
          "data": {
            "text/plain": [
              "<stable_baselines.a2c.a2c.A2C at 0x7fc4a99e6a10>"
            ]
          },
          "metadata": {},
          "execution_count": 21
        }
      ]
    },
    {
      "cell_type": "markdown",
      "source": [
        "# 4. Evaluation"
      ],
      "metadata": {
        "id": "7SBhgfYQ7tg7"
      }
    },
    {
      "cell_type": "code",
      "source": [
        "env = gym.make('stocks-v0', df=btc, frame_bound=(10,150), window_size=5)\n",
        "obs = env.reset()\n",
        "while True: \n",
        "    obs = obs[np.newaxis, ...]\n",
        "    action, _states = model.predict(obs)\n",
        "    obs, rewards, done, info = env.step(action)\n",
        "    if done:\n",
        "        print(\"info\", info)\n",
        "        break"
      ],
      "metadata": {
        "colab": {
          "base_uri": "https://localhost:8080/"
        },
        "id": "MbyYOqXg7wLR",
        "outputId": "62ce83a7-5eca-4a00-e743-650ae2b6330a"
      },
      "execution_count": 19,
      "outputs": [
        {
          "output_type": "stream",
          "name": "stdout",
          "text": [
            "info {'total_reward': -702.5399999999981, 'total_profit': 0.49680784287742524, 'position': 0}\n"
          ]
        }
      ]
    },
    {
      "cell_type": "code",
      "source": [
        "plt.figure(figsize=(15,6))\n",
        "plt.cla()\n",
        "env.render_all()\n",
        "plt.show()"
      ],
      "metadata": {
        "colab": {
          "base_uri": "https://localhost:8080/",
          "height": 417
        },
        "id": "mNH6rr2y75zT",
        "outputId": "bc919579-6494-42e1-ecc7-49bd6630d9dc"
      },
      "execution_count": 20,
      "outputs": [
        {
          "output_type": "display_data",
          "data": {
            "text/plain": [
              "<Figure size 1080x432 with 1 Axes>"
            ],
            "image/png": "[encoded data removed]"
          },
          "metadata": {
            "needs_background": "light"
          }
        }
      ]
    }
  ]
}